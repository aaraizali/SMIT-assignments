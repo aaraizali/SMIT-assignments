{
 "cells": [
  {
   "cell_type": "markdown",
   "id": "3173d294-3549-423c-acc5-369fb37b3d16",
   "metadata": {},
   "source": [
    "## Assignment(OOP)\n",
    "## Name: Aaraiz Ali\n",
    "## ID : 333564\n",
    "## Days : Tuesday and Thursday"
   ]
  },
  {
   "cell_type": "markdown",
   "id": "2471e63b-e771-4aa6-a4a8-8fe7108fad62",
   "metadata": {},
   "source": [
    "Write a Python program to create a class called \"Person\" with properties for \n",
    "name, age and country. Include a method to display the person's details. Create \n",
    "two instances of the 'Person' class and display their details."
   ]
  },
  {
   "cell_type": "code",
   "execution_count": 1,
   "id": "303b3768-47d0-4ab4-8493-09af25197b73",
   "metadata": {},
   "outputs": [
    {
     "name": "stdout",
     "output_type": "stream",
     "text": [
      "Name: Alice\n",
      "Age: 30\n",
      "Country: USA\n",
      "\n",
      "Name: Bob\n",
      "Age: 25\n",
      "Country: Canada\n",
      "\n"
     ]
    }
   ],
   "source": [
    "class Person:\n",
    "    def __init__(self, name, age, country):\n",
    "        self.name = name\n",
    "        self.age = age\n",
    "        self.country = country\n",
    "\n",
    "    def display_details(self):\n",
    "        print(f\"Name: {self.name}\")\n",
    "        print(f\"Age: {self.age}\")\n",
    "        print(f\"Country: {self.country}\")\n",
    "        print()\n",
    "\n",
    "# Creating two instances of the Person class\n",
    "person1 = Person(\"Alice\", 30, \"USA\")\n",
    "person2 = Person(\"Bob\", 25, \"Canada\")\n",
    "\n",
    "# Displaying the details of both persons\n",
    "person1.display_details()\n",
    "person2.display_details()\n"
   ]
  },
  {
   "cell_type": "markdown",
   "id": "6b68ca3e-1701-45d4-a6d2-45920e0eed5b",
   "metadata": {},
   "source": [
    " Write a Python program to create a class called 'Rectangle' with properties for \n",
    "width and height. Include two methods to calculate rectangle area and perimeter. \n",
    "Create an instance of the 'Rectangle' class and calculate its area and perimeter."
   ]
  },
  {
   "cell_type": "code",
   "execution_count": 10,
   "id": "3dc08c27-29ee-4fc6-89da-3eef8724e731",
   "metadata": {},
   "outputs": [
    {
     "name": "stdin",
     "output_type": "stream",
     "text": [
      "enter the height of rectangle 50\n",
      "enter the width of rectangle 70\n"
     ]
    },
    {
     "name": "stdout",
     "output_type": "stream",
     "text": [
      "here is your area  = 120\n",
      "here is your perimeter = 240\n",
      "\n"
     ]
    }
   ],
   "source": [
    "class Rectangle:\n",
    "    def __init__(self,width,height):\n",
    "        self.width = width\n",
    "        self.height = height\n",
    "    def cal_area_and_perim(self):\n",
    "        rec = (self.height + self.width)\n",
    "        wid = 2*(self.height + self.width)\n",
    "        print(f\"here is your area  = {rec}\")\n",
    "        print(f\"here is your perimeter = {wid}\")\n",
    "        print()\n",
    "values1 = eval(input(\"enter the height of rectangle\"))\n",
    "val2 = eval(input(\"enter the width of rectangle\"))\n",
    "cal = Rectangle(values1,val2)\n",
    "\n",
    "cal.cal_area_and_perim()"
   ]
  },
  {
   "cell_type": "markdown",
   "id": "6444507f-770a-4dcc-8861-6dc1448153a4",
   "metadata": {},
   "source": [
    " Write a Python program that creates a class called 'Vehicle' with properties for \n",
    "make, model, and year. Include a method to display vehicle details. Create a \n",
    "subclass called 'Car' that inherits from the 'Vehicle' class and includes an \n",
    "additional property for the number of doors. Override the display method to \n",
    "include the number of doors."
   ]
  },
  {
   "cell_type": "code",
   "execution_count": 7,
   "id": "f3944d46-e04b-40bd-abee-03ce218c9e54",
   "metadata": {},
   "outputs": [
    {
     "name": "stdout",
     "output_type": "stream",
     "text": [
      "Honda, civic, 2024 \n",
      "Honda, civic, 2024, 4\n"
     ]
    }
   ],
   "source": [
    "class Vehicle:\n",
    "    def __init__(self, make, model, year):\n",
    "        self.make = make\n",
    "        self.model = model\n",
    "        self.year = year\n",
    "        \n",
    "    def veh_details(self):\n",
    "        print(f\"{self.make}, {self.model}, {self.year} \")\n",
    "        \n",
    "class Car(Vehicle):\n",
    "    def __init__(self,make,model,year,doors):\n",
    "        super().__init__(make,model,year)\n",
    "        self.doors = doors\n",
    "    def veh_details(self):\n",
    "        print(f\"{self.make}, {self.model}, {self.year}, {self.doors}\")\n",
    "vehicle = Vehicle(\"Honda\",'civic',2024)\n",
    "car = Car(\"Honda\",'civic',2024, 4)\n",
    "\n",
    "vehicle.veh_details()\n",
    "car.veh_details()"
   ]
  },
  {
   "cell_type": "markdown",
   "id": "fbc278bc-2d92-4800-86ab-99da614629a8",
   "metadata": {},
   "source": [
    " Write a Python program that creates a class called \"BankAccount\" with \n",
    "properties for account number and balance. Include methods to deposit and \n",
    "withdraw money from the account. Create some instances of the \"BankAccount\" \n",
    "class, deposit some money, and withdraw a portion of it."
   ]
  },
  {
   "cell_type": "code",
   "execution_count": 17,
   "id": "e72a6e11-a7f9-441e-9ee8-e6c6be73d66e",
   "metadata": {},
   "outputs": [
    {
     "name": "stdout",
     "output_type": "stream",
     "text": [
      "deposit10000. new_balance100000\n",
      "withdraw : 50000, new_balance : 50000\n",
      "your account number : 80823 : your balance 50000\n"
     ]
    }
   ],
   "source": [
    "class BankAccount:\n",
    "    def __init__(self,account_number,balance):\n",
    "        self.account_number = account_number\n",
    "        self.balance = balance\n",
    "        \n",
    "    def deposit(self,amount):\n",
    "        if amount > 0:\n",
    "            self.balance += amount\n",
    "            print(f\"deposit{amount}. new_balance{self.balance}\")\n",
    "        else:\n",
    "            print(\"Deposit amount must be positive.\")\n",
    "    def withdraw(self,amount):\n",
    "        if amount > 0:\n",
    "            if amount <= self.balance:\n",
    "                self.balance -= amount\n",
    "                print(f\"withdraw : {amount}, new_balance : {self.balance}\")\n",
    "            else:\n",
    "                print(\"insufficient balance.\")\n",
    "        else:\n",
    "            print(\"withdraw must be positive\")\n",
    "    def display_details(self):\n",
    "        print(f\"your account number : {self.account_number} : your balance {self.balance}\")\n",
    "account_1 = BankAccount(80823, 90000)\n",
    "account_1.deposit(10000)\n",
    "account_1.withdraw(50000)\n",
    "account_1.display_details()"
   ]
  },
  {
   "cell_type": "markdown",
   "id": "e89ce1df-d362-4c35-a758-55205ec1bbf8",
   "metadata": {},
   "source": [
    ". Write a Python program that creates a class called 'Shape' with a method to \n",
    "calculate the area. Create two subclasses, 'Circle' and 'Triangle', that inherit from \n",
    "the 'Shape' class and override the area calculation method. Create an instance of \n",
    "the 'Circle' class and calculate its area. Similarly, do the same for the 'Triangle' \n",
    "class."
   ]
  },
  {
   "cell_type": "code",
   "execution_count": 53,
   "id": "4df52b80-0415-4f49-b93a-b2c57201d8b1",
   "metadata": {},
   "outputs": [
    {
     "name": "stdout",
     "output_type": "stream",
     "text": [
      "area of circle : 25434.0\n",
      "area of triangle : 600.0\n"
     ]
    }
   ],
   "source": [
    "class shape:\n",
    "    def area(self):\n",
    "        pass\n",
    "        \n",
    "class Circle(shape):\n",
    "    def __init__(self, radius):\n",
    "        self.radius = radius\n",
    "        \n",
    "    def area(self):\n",
    "        ar_1 = 3.14 * self.radius ** 2\n",
    "        return ar_1\n",
    "    def display_details(self, circle_area):\n",
    "        print(f\"area of circle : {circle_area}\")\n",
    "    \n",
    "class Triangle(shape):\n",
    "    def __init__(self, breadth, height):\n",
    "        self.breadth = breadth\n",
    "        self.height = height\n",
    "    def area(self):\n",
    "        ar_2 = 1/2 * self.breadth * self.height\n",
    "        return ar_2\n",
    "\n",
    "    def display_details(self, tri_area):\n",
    "        print(f\"area of triangle : {tri_area}\")\n",
    "\n",
    "\n",
    "circle = Circle(90)\n",
    "tri = Triangle(30,40)\n",
    "\n",
    "circle_area = circle.area()\n",
    "tri_area = tri.area()\n",
    "\n",
    "circle.display_details(circle_area)\n",
    "tri.display_details(tri_area)\n"
   ]
  },
  {
   "cell_type": "markdown",
   "id": "d6e5dca1-8c26-4446-bbf9-ae6be36a939c",
   "metadata": {},
   "source": [
    " Write a Python program that creates a class called 'Employee' with properties \n",
    "for name and salary. Include a method to calculate annual salary. Create a \n",
    "subclass called 'Manager' that inherits from the 'Employee' class and adds an \n",
    "additional property for department. Override the annual salary calculation method \n",
    "to include bonuses for managers. Create two instances of the 'Manager' class \n",
    "and calculate their annual salary."
   ]
  },
  {
   "cell_type": "code",
   "execution_count": 75,
   "id": "b39a0881-d3c0-49e3-a4a6-07f1a05644d2",
   "metadata": {},
   "outputs": [
    {
     "name": "stdout",
     "output_type": "stream",
     "text": [
      "John annual salary: 792000.0\n",
      "pieter annual salary: 660000.0\n"
     ]
    }
   ],
   "source": [
    "class Employee:\n",
    "    def __init__(self, name, salary):\n",
    "        self.name = name\n",
    "        self.salary = salary\n",
    "        \n",
    "    def cal_ann_sal(self):\n",
    "        return self.salary * 12\n",
    "class Manager(Employee):\n",
    "    def __init__(self, name, salary, department):\n",
    "        super().__init__(name, salary)\n",
    "        self.department = department\n",
    "        #10% bonus for annual salary of managers\n",
    "    def cal_ann_sal(self):\n",
    "        annual_salary = super().cal_ann_sal()\n",
    "        bounce = annual_salary * 0.10\n",
    "        return annual_salary + bounce\n",
    "\n",
    "\n",
    "man_1 = Manager(\"John\",60000,\"IT\")\n",
    "man_2 = Manager(\"pieter\",50000,\"account\")\n",
    "\n",
    "print(f\"{man_1.name} annual salary: {man_1.cal_ann_sal()}\")\n",
    "print(f\"{man_2.name} annual salary: {man_2.cal_ann_sal()}\")"
   ]
  },
  {
   "cell_type": "markdown",
   "id": "e7e6ac11-3aa9-4f47-b29f-55673bb22d1d",
   "metadata": {},
   "source": [
    " Write a Python program that creates a class `Book` with properties for title, \n",
    "author, and publication year. Include a method to display book details. Create a \n",
    "subclass called 'Ebook' that inherits from the 'Book' class and includes an \n",
    "additional property for book price. Override the display method to include the \n",
    "book price. Create an instance of the 'Ebook' class and display its details. \n"
   ]
  },
  {
   "cell_type": "code",
   "execution_count": 1,
   "id": "cbab02d5-e132-4073-8553-4ca3f68dceff",
   "metadata": {},
   "outputs": [],
   "source": [
    "class Book:\n",
    "    def __init__(self, title, author, publication_year):\n",
    "        self.title = title\n",
    "        self.author = author\n",
    "        self.publication_year = publication_year\n",
    "        "
   ]
  },
  {
   "cell_type": "code",
   "execution_count": 2,
   "id": "9f56b24e-8735-43a7-ad55-a26076bab494",
   "metadata": {},
   "outputs": [
    {
     "name": "stdout",
     "output_type": "stream",
     "text": [
      "bagban  jua\n"
     ]
    }
   ],
   "source": [
    "class book:\n",
    "    name = \"bagban \"\n",
    "    title = \"jua\"\n",
    "    pubyear = 2030\n",
    "kitab = book()\n",
    "print(kitab.name,kitab.title)"
   ]
  },
  {
   "cell_type": "markdown",
   "id": "a841d7b7-96fa-40d9-b4cf-f06060d5ef8f",
   "metadata": {},
   "source": [
    " Write a Python program that creates a class called 'Animal' with properties for \n",
    "species and sound. Include a method to make the animal's sound. Create a \n",
    "subclass called 'Dog' that inherits from the 'Animal' class and adds an additional \n",
    "property for color. Override the make sound method to include the dog's color. \n",
    "Create an instance of the 'Dog' class and make it make its sound. "
   ]
  },
  {
   "cell_type": "code",
   "execution_count": 15,
   "id": "eed0b35f-74db-4529-8c99-2cc6ce794195",
   "metadata": {},
   "outputs": [
    {
     "name": "stdout",
     "output_type": "stream",
     "text": [
      "The brown dog goes 'woof'\n"
     ]
    }
   ],
   "source": [
    "class Animal:\n",
    "    def __init__(self, species, sound):\n",
    "        self.species = species\n",
    "        self.sound = sound\n",
    "\n",
    "    def make_sound(self):\n",
    "        return f\"The {self.species} goes '{self.sound}'\"\n",
    "\n",
    "class Dog(Animal):\n",
    "    def __init__(self, species, sound, color):\n",
    "        super().__init__(species, sound)\n",
    "        self.color = color\n",
    "\n",
    "    def make_sound(self):\n",
    "        return f\"The {self.color} {self.species} goes '{self.sound}'\"\n",
    "\n",
    "# Create an instance of the Dog class\n",
    "dog = Dog(species=\"dog\", sound=\"woof\", color=\"brown\")\n",
    "\n",
    "# Make the dog make its sound\n",
    "print(dog.make_sound())"
   ]
  },
  {
   "cell_type": "markdown",
   "id": "3fc37a6e-072c-4a2c-890c-bc28f8743b67",
   "metadata": {},
   "source": [
    " Write a Python program that creates a class called Product with properties for \n",
    "product ID, name, and price. Include a method to calculate the total price by \n",
    "multiplying the price by the quantity. Create a subclass called \n",
    "PersonalCareProduct that inherits from the Product class and adds an additional \n",
    "property for the warranty period. Override the total price calculation method to \n",
    "\n",
    "include the warranty period. Create an instance of the PersonalCareProduct \n",
    "class and calculate its total price. "
   ]
  },
  {
   "cell_type": "code",
   "execution_count": 38,
   "id": "9149ab20-4498-45d5-95f9-4eb5c5afc3d7",
   "metadata": {},
   "outputs": [
    {
     "name": "stdout",
     "output_type": "stream",
     "text": [
      "product Id : 9090909\n",
      "Name : beauty cream box\n",
      "Price : 10000\n",
      "quantity : 6\n",
      "warranty period : 1 year\n",
      "total price : 60000\n"
     ]
    }
   ],
   "source": [
    "class Product:\n",
    "    def __init__(self, Id, name, price, quantity):\n",
    "        self.Id = Id\n",
    "        self.name = name\n",
    "        self.price = price\n",
    "        self.quantity = quantity\n",
    "        \n",
    "    def cal_total_price(self):\n",
    "        return self.price*self.quantity\n",
    "        \n",
    "\n",
    "class PersonalCareProduct(Product):\n",
    "    def __init__(self, Id, name, price, quantity, warranty_period):\n",
    "        super().__init__(Id, name, price, quantity)\n",
    "        self.warranty_period = warranty_period\n",
    "        \n",
    "    def cal_total_price(self):\n",
    "        total_p =  (f\"product Id : {self.Id}\\nName : {self.name}\\nPrice : {self.price}\\nquantity : {self.quantity}\\nwarranty period : {self.warranty_period}\\ntotal price : {self.price*self.quantity}\")\n",
    "        return total_p\n",
    "         \n",
    "        \n",
    "pcp = PersonalCareProduct(9090909, \"beauty cream box\", 10000, 6, \"1 year\")\n",
    "\n",
    "print(pcp.cal_total_price())\n",
    "    "
   ]
  },
  {
   "cell_type": "markdown",
   "id": "26d1fee8-9fc1-48f5-bc06-a455c02135ef",
   "metadata": {},
   "source": [
    ". Write a Python program that creates a class called BankAccount with \n",
    "properties for account number, account holder name, and balance. Include \n",
    "methods to deposit, withdraw, and transfer money between accounts. Create \n",
    "multiple instances of the BankAccount class and perform operations such as \n",
    "depositing, withdrawing, and transferring money. "
   ]
  },
  {
   "cell_type": "code",
   "execution_count": 4,
   "id": "99313cba-ffc9-4292-865d-32379fe43a3f",
   "metadata": {},
   "outputs": [
    {
     "name": "stdout",
     "output_type": "stream",
     "text": [
      "Deposited: 10000. Current Balance: 60000\n",
      "Withdrew: 20000. Current Balance: 40000\n",
      "Transferred: 15000 to Alice. Your Current Balance: 25000\n",
      "Account Number: 90234, Account Holder: Elbay, Balance: 25000\n",
      "Account Number: 90235, Account Holder: Alice, Balance: 45000\n"
     ]
    }
   ],
   "source": [
    "class BankAccount:\n",
    "    def __init__(self, account_number, account_holder_name, balance=0):\n",
    "        self.account_number = account_number\n",
    "        self.account_holder_name = account_holder_name\n",
    "        self.balance = balance\n",
    "\n",
    "    def deposit(self, money):\n",
    "        if money > 0:\n",
    "            self.balance += money\n",
    "            return f\"Deposited: {money}. Current Balance: {self.balance}\"\n",
    "        else:\n",
    "            return \"Amount must be positive.\"\n",
    "\n",
    "    def withdraw(self, money):\n",
    "        if money > 0 and money <= self.balance:\n",
    "            self.balance -= money\n",
    "            return f\"Withdrew: {money}. Current Balance: {self.balance}\"\n",
    "        elif money > self.balance:\n",
    "            return \"Insufficient funds.\"\n",
    "        else:\n",
    "            return \"Amount must be positive.\"\n",
    "\n",
    "    def transfer(self, money, target_account):\n",
    "        if money > 0 and money <= self.balance:\n",
    "            self.balance -= money\n",
    "            target_account.balance += money\n",
    "            return f\"Transferred: {money} to {target_account.account_holder_name}. Your Current Balance: {self.balance}\"\n",
    "        elif money > self.balance:\n",
    "            return \"Insufficient funds for transfer.\"\n",
    "        else:\n",
    "            return \"Amount must be positive.\"\n",
    "\n",
    "    def display_details(self):\n",
    "        return f\"Account Number: {self.account_number}, Account Holder: {self.account_holder_name}, Balance: {self.balance}\"\n",
    "\n",
    "\n",
    "# Creating multiple instances of BankAccount\n",
    "account1 = BankAccount(90234, \"Elbay\", 50000)\n",
    "account2 = BankAccount(90235, \"Alice\", 30000)\n",
    "\n",
    "# Performing operations\n",
    "print(account1.deposit(10000))  # Deposit money to account1\n",
    "print(account1.withdraw(20000))  # Withdraw money from account1\n",
    "print(account1.transfer(15000, account2))  # Transfer money from account1 to account2\n",
    "\n",
    "# Display details of both accounts\n",
    "print(account1.display_details())\n",
    "print(account2.display_details())\n"
   ]
  },
  {
   "cell_type": "markdown",
   "id": "42c00bf8-c34c-4d38-9c8a-12596dd9e90f",
   "metadata": {},
   "source": [
    ". Write a Python program that creates a class called University with properties \n",
    "for university name and departments. Include methods to add a department, \n",
    "remove a department, and display all departments. Create an instance of the \n",
    "University class and add and remove departments."
   ]
  },
  {
   "cell_type": "code",
   "execution_count": 6,
   "id": "1cc26882-df38-49c2-b06c-e47b77a9c7f6",
   "metadata": {},
   "outputs": [
    {
     "name": "stdout",
     "output_type": "stream",
     "text": [
      "Department 'Computer Science' added successfully.\n",
      "Department 'Electrical Engineering' added successfully.\n",
      "Department 'Mathematics' added successfully.\n",
      "Departments in Techville University: Computer Science, Electrical Engineering, Mathematics\n",
      "Department 'Mathematics' removed successfully.\n",
      "Departments in Techville University: Computer Science, Electrical Engineering\n",
      "Department 'Physics' not found.\n",
      "Department 'Computer Science' already exists.\n"
     ]
    }
   ],
   "source": [
    "class University:\n",
    "    def __init__(self, name):\n",
    "        self.name = name\n",
    "        self.departments = []\n",
    "\n",
    "    def add_department(self, department_name):\n",
    "        if department_name not in self.departments:\n",
    "            self.departments.append(department_name)\n",
    "            return f\"Department '{department_name}' added successfully.\"\n",
    "        else:\n",
    "            return f\"Department '{department_name}' already exists.\"\n",
    "\n",
    "    def remove_department(self, department_name):\n",
    "        if department_name in self.departments:\n",
    "            self.departments.remove(department_name)\n",
    "            return f\"Department '{department_name}' removed successfully.\"\n",
    "        else:\n",
    "            return f\"Department '{department_name}' not found.\"\n",
    "\n",
    "    def display_departments(self):\n",
    "        if self.departments:\n",
    "            return f\"Departments in {self.name}: \" + \", \".join(self.departments)\n",
    "        else:\n",
    "            return f\"No departments found in {self.name}.\"\n",
    "\n",
    "\n",
    "# Creating an instance of University\n",
    "my_university = University(\"Techville University\")\n",
    "print(my_university.add_department(\"Computer Science\"))\n",
    "print(my_university.add_department(\"Electrical Engineering\"))\n",
    "print(my_university.add_department(\"Mathematics\"))\n",
    "print(my_university.display_departments())\n",
    "\n",
    "\n",
    "print(my_university.remove_department(\"Mathematics\"))\n",
    "\n",
    "print(my_university.display_departments())\n",
    "\n",
    "print(my_university.remove_department(\"Physics\"))\n",
    "\n",
    "print(my_university.add_department(\"Computer Science\"))\n",
    "\n"
   ]
  },
  {
   "cell_type": "code",
   "execution_count": null,
   "id": "3b2bac1a-4b2e-4f8a-a074-7277f40c249b",
   "metadata": {},
   "outputs": [],
   "source": []
  }
 ],
 "metadata": {
  "kernelspec": {
   "display_name": "Python 3 (ipykernel)",
   "language": "python",
   "name": "python3"
  },
  "language_info": {
   "codemirror_mode": {
    "name": "ipython",
    "version": 3
   },
   "file_extension": ".py",
   "mimetype": "text/x-python",
   "name": "python",
   "nbconvert_exporter": "python",
   "pygments_lexer": "ipython3",
   "version": "3.11.7"
  }
 },
 "nbformat": 4,
 "nbformat_minor": 5
}
