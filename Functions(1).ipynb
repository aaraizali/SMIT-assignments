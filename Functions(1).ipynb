{
 "cells": [
  {
   "cell_type": "markdown",
   "id": "5b60fa3d-1deb-4653-94ee-56c2bdc87271",
   "metadata": {},
   "source": [
    "## Name: Aaraiz Ali\n",
    "## Roll no: 333564\n",
    "## Days: Tusday and Wednesday"
   ]
  },
  {
   "cell_type": "markdown",
   "id": "8f5614c4-c219-47a4-8889-0d3b6fd2150f",
   "metadata": {},
   "source": [
    "####  Write a Python function to find the maximum of three numbers. "
   ]
  },
  {
   "cell_type": "code",
   "execution_count": 1,
   "id": "dab1ffcb-e75f-43e5-bea3-f3831666b79d",
   "metadata": {},
   "outputs": [
    {
     "name": "stdout",
     "output_type": "stream",
     "text": [
      "The maximum of the three numbers is: 10\n"
     ]
    }
   ],
   "source": [
    "def find_maximum(a, b, c):\n",
    "    return max(a, b, c)\n",
    "\n",
    "# Example usage\n",
    "num1 = 5\n",
    "num2 = 10\n",
    "num3 = 3\n",
    "\n",
    "print(\"The maximum of the three numbers is:\", find_maximum(num1, num2, num3))\n"
   ]
  },
  {
   "cell_type": "markdown",
   "id": "10fc47fd-3fd3-454d-88ce-610fcfb05e8d",
   "metadata": {},
   "source": [
    "#### . Write a Python function to sum all the numbers in a list. \n",
    "Sample List : (8, 2, 3, 0, 7) \n",
    "Expected Output : 20"
   ]
  },
  {
   "cell_type": "code",
   "execution_count": 13,
   "id": "3dc04e39-ab53-4b4f-ab28-dd1f8a125be6",
   "metadata": {},
   "outputs": [],
   "source": [
    "#def sum_of_list(lst):\n",
    "   # return sum(lst)\n",
    "    \n",
    "#lst = [6,7,8,9,2,3]\n",
    "\n",
    "#\n",
    "#print(\"sum of list is\", sum_of_list(lst))\n",
    "    "
   ]
  },
  {
   "cell_type": "code",
   "execution_count": 14,
   "id": "ab495e9e-3ca2-4163-a088-e846914a7175",
   "metadata": {},
   "outputs": [],
   "source": [
    "#def sum_of_list(lst):\n",
    "    #return sum(lst)  # Use the built-in sum() function to calculate the sum of the list\n",
    "\n",
    "#lst = [6, 7, 8, 9, 2, 3]\n",
    "\n",
    "#print(\"Sum of the list is\", sum_of_list(lst))\n"
   ]
  },
  {
   "cell_type": "code",
   "execution_count": 16,
   "id": "ef61b802-3f46-40e8-ae1b-d873dabf569e",
   "metadata": {},
   "outputs": [],
   "source": [
    "#def sum_of_list(lst):\n",
    "   # return sum(lst)  # Use the built-in sum() to calculate the total\n",
    "\n",
    "#lst = [6, 7, 8, 9, 2, 3]\n",
    "\n",
    "#print(\"Sum of the list is\", sum_of_list(lst))\n"
   ]
  },
  {
   "cell_type": "code",
   "execution_count": 18,
   "id": "5770290d-8d0c-47b7-ba77-39cc9cffaeab",
   "metadata": {},
   "outputs": [
    {
     "name": "stdout",
     "output_type": "stream",
     "text": [
      "Sum of the list is None\n"
     ]
    }
   ],
   "source": [
    "def sum_of_list(lst):\n",
    "     #Correctly calculate and return the sum of the list\n",
    "    return sum(lst)\n",
    "\n",
    "#Define the list\n",
    "lst = [6, 7, 8, 9, 2, 3]\n",
    "\n",
    "#Call the function and print the result\n",
    "print(\"Sum of the list is\", sum_of_list(lst))\n"
   ]
  },
  {
   "cell_type": "markdown",
   "id": "66bcaf12-7e9b-424c-8e66-57634537fefb",
   "metadata": {},
   "source": [
    "####  Write a Python function to multiply all the numbers in a list. \n",
    "Sample List : (8, 2, 3, -1, 7) \n",
    "Expected Output : -336"
   ]
  },
  {
   "cell_type": "code",
   "execution_count": 24,
   "id": "7bb077b7-c4fe-444a-aa59-d1380498d76b",
   "metadata": {},
   "outputs": [
    {
     "name": "stdout",
     "output_type": "stream",
     "text": [
      "The product of the list is: -336\n"
     ]
    }
   ],
   "source": [
    "import math\n",
    "\n",
    "def multiply_list(lst):\n",
    " \n",
    "    return math.prod(lst)\n",
    "\n",
    "sample_list = [8, 2, 3, -1, 7]\n",
    "\n",
    "\n",
    "print(\"The product of the list is:\", multiply_list(sample_list))\n"
   ]
  },
  {
   "cell_type": "markdown",
   "id": "0815a3cb-e689-42e6-9775-7658bfbca0c6",
   "metadata": {},
   "source": [
    "#### . Write a Python program to reverse a string.  \n",
    "Sample String : \"1234abcd\" \n",
    "Expected Output : \"dcba4321\"\n"
   ]
  },
  {
   "cell_type": "code",
   "execution_count": 25,
   "id": "06fd1bbf-0fff-41d0-ac1b-8275d06eb076",
   "metadata": {},
   "outputs": [
    {
     "name": "stdin",
     "output_type": "stream",
     "text": [
      "enter the input string ;  123abcd\n"
     ]
    },
    {
     "name": "stdout",
     "output_type": "stream",
     "text": [
      "this is your 123abcd reverse of the string dcba321\n"
     ]
    }
   ],
   "source": [
    "string = input(\"enter the input string ; \")\n",
    "reverse = string[::-1]\n",
    "print(f\"this is your {string} reverse of the string {reverse}\")"
   ]
  },
  {
   "cell_type": "markdown",
   "id": "0f197521-d899-46c9-8cc7-9aa928c0e79f",
   "metadata": {},
   "source": [
    "#### . Write a Python function to calculate the factorial of a number (a non-negative \n",
    "integer). The function accepts the number as an argument. "
   ]
  },
  {
   "cell_type": "code",
   "execution_count": 45,
   "id": "3f974705-801d-4499-a0f7-67583ea5a141",
   "metadata": {},
   "outputs": [
    {
     "name": "stdin",
     "output_type": "stream",
     "text": [
      "enter the number that you want a factorial :  7\n"
     ]
    },
    {
     "name": "stdout",
     "output_type": "stream",
     "text": [
      "here is your factorial  5040\n"
     ]
    }
   ],
   "source": [
    "def factorial_of_number(inp):\n",
    "    factorial = 1\n",
    "    for i in range(1, inp + 1):\n",
    "       factorial *= i\n",
    "    return factorial\n",
    "         \n",
    "inp = eval(input(\"enter the number that you want a factorial : \"))\n",
    "\n",
    "print(\"here is your factorial \", factorial_of_number(inp))\n",
    "           "
   ]
  },
  {
   "cell_type": "code",
   "execution_count": 50,
   "id": "47595652-3a13-42ec-bf48-a800cd8e1157",
   "metadata": {},
   "outputs": [
    {
     "data": {
      "text/plain": [
       "5040"
      ]
     },
     "execution_count": 50,
     "metadata": {},
     "output_type": "execute_result"
    }
   ],
   "source": [
    "factorial_of_number(7)"
   ]
  },
  {
   "cell_type": "markdown",
   "id": "39c88cf7-708e-4e76-8ee4-71bcceb1b75f",
   "metadata": {},
   "source": [
    "#### Write a Python function to check whether a number falls within a given range."
   ]
  },
  {
   "cell_type": "code",
   "execution_count": 54,
   "id": "f605e95a-5226-4c5d-ac17-8d6922841ccb",
   "metadata": {},
   "outputs": [
    {
     "name": "stdin",
     "output_type": "stream",
     "text": [
      "enter the number of list 21\n"
     ]
    },
    {
     "name": "stdout",
     "output_type": "stream",
     "text": [
      "number is not  falls in given range \n",
      "None\n"
     ]
    }
   ],
   "source": [
    "def checkor(number):\n",
    "    range_c = 20\n",
    "    if number <= range_c:\n",
    "        print(\"number falls in given range \")\n",
    "    else:\n",
    "        print(\"number is not  falls in given range \")\n",
    "number = eval(input(\"enter the number of list\"))\n",
    "print(checkor(number))\n",
    "        \n",
    "        "
   ]
  },
  {
   "cell_type": "markdown",
   "id": "166a1cce-282c-4d55-93b7-f0951de48832",
   "metadata": {},
   "source": [
    "#### Write a Python function that accepts a string and counts the number of upper \n",
    "and lower case letters. \n",
    "Sample String : 'The quick Brow Fox' \n",
    "Expected Output : \n",
    "No. of Upper case characters : 3 \n",
    "No. of Lower case Characters : 12 "
   ]
  },
  {
   "cell_type": "code",
   "execution_count": 71,
   "id": "c46d3dd3-677b-48c4-abb7-6866d1b62e29",
   "metadata": {},
   "outputs": [
    {
     "name": "stdin",
     "output_type": "stream",
     "text": [
      "enter the line THELIner\n"
     ]
    },
    {
     "name": "stdout",
     "output_type": "stream",
     "text": [
      "here is your -THELIner (5, 3)\n"
     ]
    }
   ],
   "source": [
    "def upper_and_lower(inp):\n",
    "    upper_cnt = 0\n",
    "    lower_cnt = 0\n",
    "    for i in inp:\n",
    "        if i.isupper():\n",
    "            upper_cnt += 1\n",
    "        elif i.islower():\n",
    "            lower_cnt += 1\n",
    "    return upper_cnt, lower_cnt\n",
    "inp = input(\"enter the line\")\n",
    "print(f\"here is your -{inp}\",upper_and_lower(inp))"
   ]
  },
  {
   "cell_type": "markdown",
   "id": "db445125-df65-4000-84cd-eb2cc5a7ac35",
   "metadata": {},
   "source": [
    "#### . Write a Python function that takes a list and returns a new list with distinct \n",
    "elements from the first list. \n",
    "Sample List : [1,2,3,3,3,3,4,5] \n",
    "Unique List : [1, 2, 3, 4, 5] ?"
   ]
  },
  {
   "cell_type": "code",
   "execution_count": 73,
   "id": "0b5dc4cc-45f7-4271-a5f7-0d6a5e58430f",
   "metadata": {},
   "outputs": [
    {
     "name": "stdout",
     "output_type": "stream",
     "text": [
      "Sample List: [1, 2, 3, 3, 3, 3, 4, 5]\n",
      "Unique List: <function unique_list at 0x000001B32601D1C0>\n"
     ]
    }
   ],
   "source": [
    "def un)ique_list(inp:\n",
    "    unique_list = list(set(inp))\n",
    "    return unique_list\n",
    "\n",
    "# Sample list\n",
    "inp = [1, 2, 3, 3, 3, 3, 4, 5]\n",
    "unique_list = \n",
    "print(\"Sample List:\", inp)\n",
    "print(\"Unique List:\", unique_list)\n",
    "\n",
    "    "
   ]
  },
  {
   "cell_type": "markdown",
   "id": "03022f08-39db-4fae-ab85-7a43885be044",
   "metadata": {},
   "source": [
    ". Write a Python function that takes a number as a parameter and checks \n",
    "whether the number is prime or not. \n",
    "Note : A prime number (or a prime) is a natural number greater than 1 and that \n",
    "has no positive divisors other than 1 and itself."
   ]
  },
  {
   "cell_type": "code",
   "execution_count": 2,
   "id": "8b624bb2-9246-4fd5-8aa1-bf58693d8f54",
   "metadata": {},
   "outputs": [
    {
     "name": "stdin",
     "output_type": "stream",
     "text": [
      "Enter a number to check if it's prime:  5\n"
     ]
    },
    {
     "name": "stdout",
     "output_type": "stream",
     "text": [
      "5 is a prime number.\n"
     ]
    }
   ],
   "source": [
    "def is_prime(number):\n",
    "    if number <= 1:  # Prime numbers must be greater than 1\n",
    "        return False\n",
    "    for i in range(2, int(number**0.5) + 1):  # Check divisors up to the square root of the number\n",
    "        if number % i == 0:\n",
    "            return False\n",
    "    return True\n",
    "\n",
    "# Test the function\n",
    "num = int(input(\"Enter a number to check if it's prime: \"))\n",
    "if is_prime(num):\n",
    "    print(f\"{num} is a prime number.\")\n",
    "else:\n",
    "    print(f\"{num} is not a prime number.\")\n"
   ]
  },
  {
   "cell_type": "markdown",
   "id": "24354589-ab4a-42ed-8249-9073a5cb760e",
   "metadata": {},
   "source": [
    "Write a Python program to print the even numbers from a given list.  \n",
    "Sample List : [1, 2, 3, 4, 5, 6, 7, 8, 9] \n",
    "Expected Result : [2, 4, 6, 8]"
   ]
  },
  {
   "cell_type": "code",
   "execution_count": 22,
   "id": "cc23d8b7-f789-490e-955b-15cd06ac456d",
   "metadata": {},
   "outputs": [
    {
     "name": "stdout",
     "output_type": "stream",
     "text": [
      "here is your even number :  [2, 4, 6, 8]\n"
     ]
    }
   ],
   "source": [
    "def even_number(input_list):\n",
    "    even_list = []\n",
    "    for i in input_list:\n",
    "        if i%2 == 0:\n",
    "            even_list.append(i)\n",
    "    if even_list:\n",
    "        return even_list\n",
    "    else:\n",
    "        print(f\"there is no any even number : {input_list}\")\n",
    "Sample_list = [1, 2, 3, 4, 5, 6, 7, 8, 9]\n",
    "result = even_number(Sample_list)\n",
    "print(\"here is your even number : \", result)"
   ]
  },
  {
   "cell_type": "markdown",
   "id": "58df6738-151a-47a7-aa6c-946840d85936",
   "metadata": {},
   "source": [
    "Write a Python function to check whether a number is \"Perfect\" or not. \n",
    "According to Wikipedia : In number theory, a perfect number is a positive integer \n",
    "that is equal to the sum of its proper positive divisors, that is, the sum of its \n",
    "positive divisors excluding the number itself (also known as its aliquot sum). \n",
    "Equivalently, a perfect number is a number that is half the sum of all of its \n",
    "positive divisors (including itself). \n",
    "Example : The first perfect number is 6, because 1, 2, and 3 are its proper positive \n",
    "divisors, and 1 + 2 + 3 = 6. Equivalently, the number 6 is equal to half the sum of \n",
    "all its positive divisors: ( 1 + 2 + 3 + 6 ) / 2 = 6. The next perfect number is 28 = 1 + \n",
    "2 + 4 + 7 + 14. This is followed by the perfect numbers 496 and 8128. "
   ]
  },
  {
   "cell_type": "code",
   "execution_count": null,
   "id": "172a3262-451c-43b3-8027-b9ec8014c7a9",
   "metadata": {},
   "outputs": [],
   "source": []
  },
  {
   "cell_type": "markdown",
   "id": "8b19fa88-fccd-4c89-ab59-deea086acf44",
   "metadata": {},
   "source": [
    " Write a Python function that checks whether a passed string is a palindrome \n",
    "or not. \n",
    "Note: A palindrome is a word, phrase, or sequence that reads the same backward \n",
    "as forward, e.g., madam or nurses run."
   ]
  },
  {
   "cell_type": "code",
   "execution_count": 5,
   "id": "1d5f3403-363c-412e-b4dd-aed7d173d34d",
   "metadata": {},
   "outputs": [
    {
     "name": "stdin",
     "output_type": "stream",
     "text": [
      "Enter a string to check if it's a palindrome:  level\n"
     ]
    },
    {
     "name": "stdout",
     "output_type": "stream",
     "text": [
      "\"level\" is a palindrome.\n"
     ]
    }
   ],
   "source": [
    "def is_palindrome(s):\n",
    "    return s == s[::-1]\n",
    "    \n",
    "input_string = input(\"Enter a string to check if it's a palindrome: \")\n",
    "if is_palindrome(input_string):\n",
    "    print(f'\"{input_string}\" is a palindrome.')\n",
    "else:\n",
    "    print(f'\"{input_string}\" is not a palindrome.')\n"
   ]
  },
  {
   "cell_type": "code",
   "execution_count": null,
   "id": "8fbf0462-fc86-4b97-8ba4-3346d0772d53",
   "metadata": {},
   "outputs": [],
   "source": []
  }
 ],
 "metadata": {
  "kernelspec": {
   "display_name": "Python 3 (ipykernel)",
   "language": "python",
   "name": "python3"
  },
  "language_info": {
   "codemirror_mode": {
    "name": "ipython",
    "version": 3
   },
   "file_extension": ".py",
   "mimetype": "text/x-python",
   "name": "python",
   "nbconvert_exporter": "python",
   "pygments_lexer": "ipython3",
   "version": "3.11.7"
  }
 },
 "nbformat": 4,
 "nbformat_minor": 5
}
