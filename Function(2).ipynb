{
 "cells": [
  {
   "cell_type": "markdown",
   "id": "0da26859-f209-4b48-b5ff-4af14d6c5cdc",
   "metadata": {},
   "source": [
    "## ASSIGNMENT\n",
    "## Name: Aaraiz Ali\n",
    "## Roll no: 333564\n",
    "## Days: Tusday and Wednesday"
   ]
  },
  {
   "cell_type": "markdown",
   "id": "14301ed8-686c-488d-9ed3-2251c217e777",
   "metadata": {},
   "source": [
    "You need to write a function in python that return all such numbers which are \n",
    "divisible by 7 but are not a multiple of 5, between 2000 and 3200 (both included). \n",
    "Return the obtained numbers in a comma-separated sequence on a single line."
   ]
  },
  {
   "cell_type": "code",
   "execution_count": 9,
   "id": "857ac808-d945-4f79-a7a7-45b8d1a3acd1",
   "metadata": {},
   "outputs": [
    {
     "name": "stdout",
     "output_type": "stream",
     "text": [
      "here is your result [2317, 2471]\n"
     ]
    }
   ],
   "source": [
    "def get_number(lst):\n",
    "    empty = []\n",
    "    for i in lst:\n",
    "        if i%7 == 0 and i% 5 != 0:\n",
    "            empty.append(i)\n",
    "    if empty:\n",
    "        return empty\n",
    "    else:\n",
    "        print(\"there is no desired number\")\n",
    "sample = [2100, 2205, 2317, 2451, 2471]\n",
    "result = get_number(sample)\n",
    "print(\"here is your result\",result)\n",
    "            \n",
    "            "
   ]
  },
  {
   "cell_type": "markdown",
   "id": "2fb709a6-ff4e-480a-ad45-6ede1bfa2f7f",
   "metadata": {},
   "source": [
    "You need code a function that calculates and returns the value according to the \n",
    "given formula: \n",
    "P = Square root of [(2 * A * B)/C] \n",
    "Following are the fixed values of A and B: \n",
    "A is 50. B is 30. \n",
    "The values of the literal C should be taken as console input to your program in a \n",
    "comma-separated sequence. \n",
    "Example \n",
    "Let us assume the following comma separated input sequence is given to the \n",
    "program: \n",
    "100,150,180 \n",
    "The output of the program should be: \n",
    "18,22,24 "
   ]
  },
  {
   "cell_type": "code",
   "execution_count": 9,
   "id": "ac881c43-0744-4a70-baec-a9ac68309872",
   "metadata": {},
   "outputs": [
    {
     "name": "stdin",
     "output_type": "stream",
     "text": [
      "Enter the values for C (comma-separated):  100,120,150\n"
     ]
    },
    {
     "name": "stdout",
     "output_type": "stream",
     "text": [
      "Here is your result: 5,5,4\n"
     ]
    }
   ],
   "source": [
    "def cal_val_ac_formula(a, b, c_values):\n",
    "    results = []\n",
    "    for c in c_values:\n",
    "        result = ((2 * a * b) / c) ** 0.5\n",
    "        results.append(int(result))\n",
    "    return results\n",
    "\n",
    "a = 50\n",
    "b = 30\n",
    "\n",
    "c_input = input(\"Enter the values for C (comma-separated): \")\n",
    "c_values = [int(c) for c in c_input.split(\",\")]\n",
    "\n",
    "results = cal_val_ac_formula(a, b, c_values)\n",
    "print(\"Here is your result:\", \",\".join(map(str, results)))\n"
   ]
  },
  {
   "cell_type": "markdown",
   "id": "d2ae7f89-e6e5-4e63-ae39-5430a4b9988a",
   "metadata": {},
   "source": [
    "You need to write a function that takes a comma separated sequence of words as\n",
    "input and prints the words in a comma-separated sequence after sorting them\n",
    "alphabetically.\n",
    "Suppose the following input is supplied to the program:\n",
    "without,hello,bag,world\n",
    "Then, the output should be:\n",
    "bag,hello,without,world"
   ]
  },
  {
   "cell_type": "code",
   "execution_count": 32,
   "id": "d1807e67-40cc-45a8-9b26-d3ec0a99c234",
   "metadata": {},
   "outputs": [
    {
     "name": "stdin",
     "output_type": "stream",
     "text": [
      "Enter a comma-separated sequence of words:  bag,with,hello,char\n"
     ]
    },
    {
     "name": "stdout",
     "output_type": "stream",
     "text": [
      "bag,char,hello,with\n"
     ]
    }
   ],
   "source": [
    "\n",
    "def sort_words():\n",
    "    # Take comma-separated input from the user\n",
    "    words = input(\"Enter a comma-separated sequence of words: \")\n",
    "    # Split the input string into a list of words\n",
    "    word_list = words.split(',')\n",
    "    # Sort the list alphabetically\n",
    "    word_list.sort()\n",
    "    # Join the sorted words back into a comma-separated string and print\n",
    "    print(','.join(word_list))\n",
    "\n",
    "# Call the function\n",
    "sort_words()\n"
   ]
  },
  {
   "cell_type": "markdown",
   "id": "7715d18e-69f6-432a-9e0f-974f33ac2e25",
   "metadata": {},
   "source": [
    "You need to write a program that takes sequence of lines as input and prints the\n",
    "lines after making all characters in the sentence capitalized.\n",
    "Suppose the following input is supplied to the program:\n",
    "Hello world\n",
    "Practice makes perfect\n",
    "Then, the output should be:"
   ]
  },
  {
   "cell_type": "code",
   "execution_count": 38,
   "id": "d2c08adc-964f-4188-8838-d36356f946cf",
   "metadata": {},
   "outputs": [
    {
     "name": "stdin",
     "output_type": "stream",
     "text": [
      "enter the sentance :  this is piece of code\n"
     ]
    },
    {
     "name": "stdout",
     "output_type": "stream",
     "text": [
      "THIS IS PIECE OF CODE\n"
     ]
    }
   ],
   "source": [
    "def capitalize():\n",
    "    cap = input(\"enter the sentance : \")\n",
    "    cap.upper()\n",
    "    return cap.upper()\n",
    "cap_tile = capitalize()\n",
    "print(cap_tile)"
   ]
  },
  {
   "cell_type": "markdown",
   "id": "851e25a3-1e7e-4014-a90b-f9ae1b0319b6",
   "metadata": {},
   "source": [
    "You need to write a function that counts the number of vowels in a given\n",
    "sentence as input from console.\n",
    "Suppose the following input is supplied to the program:\n",
    "Hello world\n",
    "Practice makes perfect\n",
    "Then, the output should be:\n",
    "a appeared 2 times\n",
    "e appeared 5 times\n",
    "i appeared 1 time\n",
    "o appeared 2 times\n",
    "u appeared 0 time\n",
    "PRACTICE MAKES PERFECT"
   ]
  },
  {
   "cell_type": "code",
   "execution_count": 39,
   "id": "96b39861-bda6-4fab-b07a-bb52c6b1d57d",
   "metadata": {},
   "outputs": [
    {
     "name": "stdin",
     "output_type": "stream",
     "text": [
      "Enter a sentence:  Hello world Practice makes perfect\n"
     ]
    },
    {
     "name": "stdout",
     "output_type": "stream",
     "text": [
      "a appeared 2 times\n",
      "e appeared 5 times\n",
      "i appeared 1 time\n",
      "o appeared 2 times\n",
      "u appeared 0 times\n",
      "HELLO WORLD PRACTICE MAKES PERFECT\n"
     ]
    }
   ],
   "source": [
    "def count_vowels():\n",
    "    sentence = input(\"Enter a sentence: \").lower()\n",
    "    vowels = \"aeiou\"\n",
    "    # Dictionary to store counts\n",
    "    vowel_count = {v: 0 for v in vowels}\n",
    "    \n",
    "    # Count each vowel in the sentence\n",
    "    for char in sentence:\n",
    "        if char in vowels:\n",
    "            vowel_count[char] += 1\n",
    "    for vowel, count in vowel_count.items():\n",
    "        print(f\"{vowel} appeared {count} {'time' if count == 1 else 'times'}\")\n",
    "    print(sentence.upper())\n",
    "count_vowels()\n"
   ]
  },
  {
   "cell_type": "markdown",
   "id": "93f89754-b563-4d2e-9e3b-2258ce6bfa20",
   "metadata": {},
   "source": [
    "You need write a function that traces and makes a list of all such numbers\n",
    "from1000 to 3000 in which all the digits are even numbers."
   ]
  },
  {
   "cell_type": "code",
   "execution_count": 51,
   "id": "e8eba541-63c9-4586-be53-9b2cf9190931",
   "metadata": {},
   "outputs": [
    {
     "name": "stdout",
     "output_type": "stream",
     "text": [
      "[2000, 2002, 2004, 2006, 2008, 2020, 2022, 2024, 2026, 2028, 2040, 2042, 2044, 2046, 2048, 2060, 2062, 2064, 2066, 2068, 2080, 2082, 2084, 2086, 2088, 2200, 2202, 2204, 2206, 2208, 2220, 2222, 2224, 2226, 2228, 2240, 2242, 2244, 2246, 2248, 2260, 2262, 2264, 2266, 2268, 2280, 2282, 2284, 2286, 2288, 2400, 2402, 2404, 2406, 2408, 2420, 2422, 2424, 2426, 2428, 2440, 2442, 2444, 2446, 2448, 2460, 2462, 2464, 2466, 2468, 2480, 2482, 2484, 2486, 2488, 2600, 2602, 2604, 2606, 2608, 2620, 2622, 2624, 2626, 2628, 2640, 2642, 2644, 2646, 2648, 2660, 2662, 2664, 2666, 2668, 2680, 2682, 2684, 2686, 2688, 2800, 2802, 2804, 2806, 2808, 2820, 2822, 2824, 2826, 2828, 2840, 2842, 2844, 2846, 2848, 2860, 2862, 2864, 2866, 2868, 2880, 2882, 2884, 2886, 2888]\n"
     ]
    }
   ],
   "source": [
    "def find_all_even_digit_numbers():\n",
    "    even_digit_numbers = []  \n",
    "    for num in range(1000, 3001): \n",
    "        digits = str(num)  # Convert the number to a string to check each digit\n",
    "        if all(int(digit) % 2 == 0 for digit in digits):  # Check if all digits are even\n",
    "            even_digit_numbers.append(num)  # Add to the list if condition is met\n",
    "    return even_digit_numbers\n",
    "\n",
    "# Call the function and print the result\n",
    "result = find_all_even_digit_numbers()\n",
    "print(result)\n",
    "\n",
    "\n",
    "            "
   ]
  },
  {
   "cell_type": "code",
   "execution_count": 53,
   "id": "40d48f69-0f0c-466b-86ba-97703185e61e",
   "metadata": {},
   "outputs": [
    {
     "name": "stdin",
     "output_type": "stream",
     "text": [
      "Enter a sentence:  this is pice of code\n"
     ]
    },
    {
     "name": "stdout",
     "output_type": "stream",
     "text": [
      "LETTERS 16\n",
      "DIGITS 0\n"
     ]
    }
   ],
   "source": [
    "def count_letters_and_digits():\n",
    "    # Take input from the user\n",
    "    sentence = input(\"Enter a sentence: \")\n",
    "    \n",
    "    # Initialize counters\n",
    "    letter_count = 0\n",
    "    digit_count = 0\n",
    "    \n",
    "    # Loop through each character in the sentence\n",
    "    for char in sentence:\n",
    "        if char.isalpha():  # Check if the character is a letter\n",
    "            letter_count += 1\n",
    "        elif char.isdigit():  # Check if the character is a digit\n",
    "            digit_count += 1\n",
    "    \n",
    "    # Print the results\n",
    "    print(\"LETTERS\", letter_count)\n",
    "    print(\"DIGITS\", digit_count)\n",
    "\n",
    "# Call the function\n",
    "count_letters_and_digits()\n",
    "\n"
   ]
  },
  {
   "cell_type": "code",
   "execution_count": null,
   "id": "4d4042d5-91b8-414e-bd35-982035c0c3cf",
   "metadata": {},
   "outputs": [],
   "source": []
  }
 ],
 "metadata": {
  "kernelspec": {
   "display_name": "Python 3 (ipykernel)",
   "language": "python",
   "name": "python3"
  },
  "language_info": {
   "codemirror_mode": {
    "name": "ipython",
    "version": 3
   },
   "file_extension": ".py",
   "mimetype": "text/x-python",
   "name": "python",
   "nbconvert_exporter": "python",
   "pygments_lexer": "ipython3",
   "version": "3.11.7"
  }
 },
 "nbformat": 4,
 "nbformat_minor": 5
}
