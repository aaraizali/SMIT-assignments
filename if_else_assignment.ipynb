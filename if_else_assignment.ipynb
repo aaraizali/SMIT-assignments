{
 "cells": [
  {
   "cell_type": "markdown",
   "id": "5190c900-ffce-4bc1-a453-503993dd9dfc",
   "metadata": {},
   "source": [
    "## Name: Aaraiz Ali\n",
    "## Roll: 333564\n",
    "## Days: Tuesday And Wednesday"
   ]
  },
  {
   "cell_type": "markdown",
   "id": "a58a9748-fcb2-4d9d-af1d-601db49b3d28",
   "metadata": {},
   "source": [
    "# Python If Else Practice Questions"
   ]
  },
  {
   "cell_type": "markdown",
   "id": "5579dc3e-b461-433f-8e4c-a3f2417e5786",
   "metadata": {},
   "source": [
    "## A-\tDiscounts and Pricing\n"
   ]
  },
  {
   "cell_type": "code",
   "execution_count": 4,
   "id": "13d4118f-9f8d-4b8a-baa5-91571c9dd377",
   "metadata": {},
   "outputs": [
    {
     "name": "stdin",
     "output_type": "stream",
     "text": [
      "Enter the total purchase amount: $ 200\n"
     ]
    },
    {
     "name": "stdout",
     "output_type": "stream",
     "text": [
      "Total Purchase: $200.00 \n",
      "Discount Applied: $20.00 \n",
      "Final Price after Dsicount: $180.0 \n"
     ]
    }
   ],
   "source": [
    "## 1.\tCheck Discount Eligibility\n",
    "\n",
    "#  Write a program to check if a customer is eligible for a discount. If the total purchase is more than $100, apply a 10% discount \n",
    "#  and display the final price. Otherwise, display the total price as it is.\n",
    "\n",
    "total_purchase = float(input(\"Enter the total purchase amount: $\"))\n",
    "\n",
    "if total_purchase > 100:\n",
    "    discount = total_purchase * 0.10\n",
    "    final_price = total_purchase - discount\n",
    "    print(f\"Total Purchase: ${total_purchase:.2f} \")\n",
    "    print(f\"Discount Applied: ${discount:.2f} \")\n",
    "    print(f\"Final Price after Dsicount: ${final_price} \")\n",
    "\n",
    "else:\n",
    "    print(f\"Total purchase: ${total_Purchase} \")\n",
    "    print(\"No discount applied\")"
   ]
  },
  {
   "cell_type": "code",
   "execution_count": 9,
   "id": "4c979f3a-dc35-4942-9c8e-d0e3e0efecde",
   "metadata": {},
   "outputs": [
    {
     "name": "stdin",
     "output_type": "stream",
     "text": [
      "No of items you bought:  2\n",
      "Enter the price:  40\n"
     ]
    },
    {
     "name": "stdout",
     "output_type": "stream",
     "text": [
      "Total Price: 40.00 \n",
      "No Discount Applied \n"
     ]
    }
   ],
   "source": [
    "# 2.\tCalculate Bulk Discount\n",
    "# If a customer buys more than 5 items, apply a 15% discount on the total price. Otherwise, no discount is applied. Display the total price.\n",
    "\n",
    "items = int(input(\"No of items you bought: \"))\n",
    "total_price = float(input(\"Enter the price: \"))\n",
    "\n",
    "if items > 5:\n",
    "    discount = items * 0.15\n",
    "    final_price = items - discount\n",
    "    print(f\"Total items bought: {items} \")\n",
    "    print(f\"Total Price after getting discount: {final_price:.2f} \")\n",
    "\n",
    "else:\n",
    "    print(f\"Total Price: {total_price:.2f} \")\n",
    "    print(\"No Discount Applied \")"
   ]
  },
  {
   "cell_type": "code",
   "execution_count": 14,
   "id": "f7b0b2a7-298a-4ce8-a0b8-c929ff09e65f",
   "metadata": {},
   "outputs": [
    {
     "name": "stdin",
     "output_type": "stream",
     "text": [
      "Enter the total price: $ 100\n",
      "Are you a member? (yes/no):  no\n"
     ]
    },
    {
     "name": "stdout",
     "output_type": "stream",
     "text": [
      "Original price: $100.00\n",
      "Discount applied: $5.00\n",
      "Final price after discount: $95.00\n"
     ]
    }
   ],
   "source": [
    "# 3.\tMembership Discount\n",
    "# Check if the customer is a member (is_member = True). Members get a 20% discount; non-members get a 5% discount.\n",
    "# Calculate and print the discounted price.\n",
    "\n",
    "# Input the total price and membership status\n",
    "total_price = float(input(\"Enter the total price: $\"))\n",
    "is_member = input(\"Are you a member? (yes/no): \").strip().lower()\n",
    "\n",
    "\n",
    "if is_member == \"yes\":\n",
    "    discount = total_price * 0.20\n",
    "    final_price = total_price - discount\n",
    "    print(f\"Original price: ${total_price:.2f}\")\n",
    "    print(f\"Final price after discount: ${final_price:.2f}\")\n",
    "else:\n",
    "    discount = total_price * 0.05\n",
    "    final_price = total_price - discount\n",
    "    print(f\"Original price: ${total_price:.2f}\")\n",
    "    print(f\"Discount applied: ${discount:.2f}\")\n",
    "    print(f\"Final price after discount: ${final_price:.2f}\")\n",
    "\n",
    "\n",
    "\n",
    "    \n",
    "    "
   ]
  },
  {
   "cell_type": "code",
   "execution_count": 17,
   "id": "8a889f4c-074a-461d-a3b4-fb85d9117452",
   "metadata": {},
   "outputs": [
    {
     "name": "stdin",
     "output_type": "stream",
     "text": [
      "Enter the total price: $ 90\n",
      "Is today a Holiday?(yes/no):  yes\n"
     ]
    },
    {
     "name": "stdout",
     "output_type": "stream",
     "text": [
      "Original price: $90.00\n",
      "Discount applied: $22.50\n",
      "Final price after discount: $67.50\n"
     ]
    }
   ],
   "source": [
    "# 4.\tSeasonal Sale\n",
    "# If today is a holiday (is_holiday = True), apply a 25% discount; otherwise, apply a 10% discount. Calculate the price after discount.\n",
    "\n",
    "total_price = float(input(\"Enter the total price: $\").strip())\n",
    "is_holiday = input(\"Is today a Holiday?(yes/no): \").strip().lower()\n",
    "\n",
    "if is_holiday == \"yes\":\n",
    "    discount = total_price * 0.25\n",
    "    final_price = total_price - discount\n",
    "    print(f\"Original price: ${total_price:.2f}\")\n",
    "    print(f\"Discount applied: ${discount:.2f}\")\n",
    "    print(f\"Final price after discount: ${final_price:.2f}\")\n",
    "else:\n",
    "    discount = total_price * 0.10\n",
    "    final_price = total_price - discount\n",
    "    print(f\"Original price: ${total_price:.2f}\")\n",
    "    print(f\"Discount applied: ${discount:.2f}\")\n",
    "    print(f\"Final price after discount: ${final_price:.2f}\")     \n",
    "\n",
    "\n",
    "\n"
   ]
  },
  {
   "cell_type": "code",
   "execution_count": 3,
   "id": "c6285e4c-4a75-492a-873b-ae47cab6d992",
   "metadata": {},
   "outputs": [
    {
     "name": "stdin",
     "output_type": "stream",
     "text": [
      "Enter the number of items bought:  2\n"
     ]
    },
    {
     "name": "stdout",
     "output_type": "stream",
     "text": [
      "The customer has to pay for 2 items.\n"
     ]
    }
   ],
   "source": [
    "# 5. Buy-One-Get-One-Free\n",
    "# If a customer buys an even number of items, they get half of them for free. Otherwise,\n",
    "# they pay for all. Calculate the number of items the customer has to pay for.\n",
    "8. Tax Bracket\n",
    "Write a program to categorize a person into tax brackets:\n",
    " Income &lt; $30,000: &quot;Low Tax&quot;\n",
    " $30,000 ≤ Income &lt; $100,000: &quot;Medium Tax&quot;\n",
    " Income ≥ $100,000: &quot;High Tax&quot;\n",
    "# Input: Number of items purchased\n",
    "items_bought = int(input(\"Enter the number of items bought: \"))\n",
    "\n",
    "# Check if the number of items is even or odd\n",
    "if items_bought % 2 == 0:\n",
    "    items_to_pay = items_bought \n",
    "else:\n",
    "    items_to_pay = items_bought \n",
    "\n",
    "print(f\"The customer has to pay for {items_to_pay} items.\")\n"
   ]
  },
  {
   "cell_type": "markdown",
   "id": "54e6b09a-aeac-4f5b-a37b-862965802ea7",
   "metadata": {},
   "source": [
    "# B- Tax Calculations"
   ]
  },
  {
   "cell_type": "code",
   "execution_count": 4,
   "id": "52820178-cdbe-4262-b807-fd2ab82bd1df",
   "metadata": {},
   "outputs": [
    {
     "name": "stdin",
     "output_type": "stream",
     "text": [
      "Enter the price of the item:  500\n"
     ]
    },
    {
     "name": "stdout",
     "output_type": "stream",
     "text": [
      "The total price after tax is: $540.00\n"
     ]
    }
   ],
   "source": [
    "# 6. Sales Tax\n",
    "# If the price of an item is greater than $500, apply a luxury tax of 15%. Otherwise, apply a\n",
    "# standard tax of 8%. Display the total price after tax.\n",
    "\n",
    "price = float(input(\"Enter the price of the item: \"))\n",
    "\n",
    "if price > 500:\n",
    "    tax_rate = 0.15  \n",
    "else:\n",
    "    tax_rate = 0.08 \n",
    "\n",
    "tax = price * tax_rate\n",
    "\n",
    "total_price = price + tax\n",
    "\n",
    "print(f\"The total price after tax is: ${total_price:.2f}\")\n"
   ]
  },
  {
   "cell_type": "code",
   "execution_count": 5,
   "id": "f28b3f8d-5d8c-4f9d-8284-2985713ddd0a",
   "metadata": {},
   "outputs": [
    {
     "name": "stdin",
     "output_type": "stream",
     "text": [
      "Enter your annual income:  100000\n"
     ]
    },
    {
     "name": "stdout",
     "output_type": "stream",
     "text": [
      "The tax amount is: $20000.00\n"
     ]
    }
   ],
   "source": [
    "# 7. Income Tax\n",
    "# If a person&#39;s annual income is above $50,000, they pay 20% tax. Otherwise, they pay\n",
    "# 10%. Calculate and display the tax amount.\n",
    "\n",
    "\n",
    "annual_income = float(input(\"Enter your annual income: \"))\n",
    "\n",
    "if annual_income > 50000:\n",
    "    tax_rate = 0.20 \n",
    "else:\n",
    "    tax_rate = 0.10  \n",
    "\n",
    "tax = annual_income * tax_rate\n",
    "\n",
    "print(f\"The tax amount is: ${tax:.2f}\")\n"
   ]
  },
  {
   "cell_type": "code",
   "execution_count": 6,
   "id": "4ad9524f-f662-4446-bc95-0efd11494c34",
   "metadata": {},
   "outputs": [
    {
     "name": "stdin",
     "output_type": "stream",
     "text": [
      "Enter your annual income:  100000\n"
     ]
    },
    {
     "name": "stdout",
     "output_type": "stream",
     "text": [
      "The tax bracket for an income of $100000.00 is: High Tax\n"
     ]
    }
   ],
   "source": [
    "# 8. Tax Bracket\n",
    "# Write a program to categorize a person into tax brackets:\n",
    "#  Income &lt; $30,000: &quot;Low Tax&quot;\n",
    "#  $30,000 ≤ Income &lt; $100,000: &quot;Medium Tax&quot;\n",
    "#  Income ≥ $100,000: &quot;High Tax&quot;\n",
    "\n",
    "annual_income = float(input(\"Enter your annual income: \"))\n",
    "\n",
    "if annual_income < 30000:\n",
    "    tax_bracket = \"Low Tax\"\n",
    "elif 30000 <= annual_income < 100000:\n",
    "    tax_bracket = \"Medium Tax\"\n",
    "else:\n",
    "    tax_bracket = \"High Tax\"\n",
    "\n",
    "print(f\"The tax bracket for an income of ${annual_income:.2f} is: {tax_bracket}\")\n"
   ]
  },
  {
   "cell_type": "code",
   "execution_count": 8,
   "id": "2a6a2f46-cb28-4908-9d63-9d6e14d3424f",
   "metadata": {},
   "outputs": [
    {
     "name": "stdin",
     "output_type": "stream",
     "text": [
      "Enter the price of the item:  10000\n",
      "Is the item essential? (yes/no):  no\n"
     ]
    },
    {
     "name": "stdout",
     "output_type": "stream",
     "text": [
      "The final price after applying VAT is: $11200.00\n"
     ]
    }
   ],
   "source": [
    "# 9. VAT Calculation\n",
    "# If the item is marked as essential (is_essential = True), apply a VAT of 5%. Otherwise,\n",
    "# apply a VAT of 12%. Display the final price.\n",
    "\n",
    "price = float(input(\"Enter the price of the item: \"))\n",
    "is_essential = input(\"Is the item essential? (yes/no): \").strip().lower() == \"yes\"\n",
    "\n",
    "if is_essential:\n",
    "    vat_rate = 0.05  # 5% VAT for essential items\n",
    "else:\n",
    "    vat_rate = 0.12  # 12% VAT for non-essential items\n",
    "\n",
    "vat = price * vat_rate\n",
    "final_price = price + vat\n",
    "\n",
    "print(f\"The final price after applying VAT is: ${final_price:.2f}\")\n"
   ]
  },
  {
   "cell_type": "code",
   "execution_count": null,
   "id": "9c6f81cc-c035-498f-8ae2-c912cfecba74",
   "metadata": {},
   "outputs": [],
   "source": []
  }
 ],
 "metadata": {
  "kernelspec": {
   "display_name": "Python 3 (ipykernel)",
   "language": "python",
   "name": "python3"
  },
  "language_info": {
   "codemirror_mode": {
    "name": "ipython",
    "version": 3
   },
   "file_extension": ".py",
   "mimetype": "text/x-python",
   "name": "python",
   "nbconvert_exporter": "python",
   "pygments_lexer": "ipython3",
   "version": "3.11.7"
  }
 },
 "nbformat": 4,
 "nbformat_minor": 5
}
