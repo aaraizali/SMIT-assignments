{
 "cells": [
  {
   "cell_type": "markdown",
   "metadata": {},
   "source": [
    "# ASSIGNMENT-1\n",
    "## Name: Aaraiz Ali\n",
    "## Roll no: 33564\n",
    "## Days: Tusday and Wednesday"
   ]
  },
  {
   "cell_type": "markdown",
   "metadata": {
    "id": "CUdxU51J52Jc"
   },
   "source": [
    "# Topic: print()"
   ]
  },
  {
   "cell_type": "code",
   "execution_count": 11,
   "metadata": {
    "id": "O4XtVMeN52Ji"
   },
   "outputs": [
    {
     "name": "stdout",
     "output_type": "stream",
     "text": [
      "My name is Aaraiz|19|True|15.21\n"
     ]
    }
   ],
   "source": [
    "# 1) Using the python print function print any string value, integer value, boolean value, float value in single print command\n",
    "\n",
    "\n",
    "print(\"My name is Aaraiz\", end=\"|\")\n",
    "print(19, end = \"|\")\n",
    "print(True, end= \"|\")\n",
    "print(15.21)"
   ]
  },
  {
   "cell_type": "code",
   "execution_count": 9,
   "metadata": {
    "id": "iNinlTd052Jr"
   },
   "outputs": [
    {
     "name": "stdout",
     "output_type": "stream",
     "text": [
      "Aaraiz-30-False-19.2\n"
     ]
    }
   ],
   "source": [
    "# 2) Using the python print function print hyphon(-) separated any string value, integer value, boolean value, float value in single print command\n",
    "\n",
    "print(\"Aaraiz\", end=\"-\")\n",
    "print(30, end= \"-\")\n",
    "print(False, end= \"-\")\n",
    "print(19.20)\n",
    "\n"
   ]
  },
  {
   "cell_type": "code",
   "execution_count": 12,
   "metadata": {
    "id": "4fNVS99O52Jt"
   },
   "outputs": [
    {
     "name": "stdout",
     "output_type": "stream",
     "text": [
      "Munraiz 20 True 15.3 "
     ]
    }
   ],
   "source": [
    "# 3) Using the python print function print any string value, integer value, boolean value, float value in separate print command.\n",
    "# But every value must be space separated and in single line\n",
    "\n",
    "print(\"Munraiz\", end= \" \")\n",
    "print(20, end= \" \")\n",
    "print(True, end= \" \")\n",
    "print(15.30, end= \" \")"
   ]
  },
  {
   "cell_type": "raw",
   "metadata": {
    "id": "akEUFstT52Jv"
   },
   "source": [
    "# 4) Can a python print function take no value to print???\n",
    "\n",
    "yes"
   ]
  },
  {
   "cell_type": "markdown",
   "metadata": {
    "id": "vFPOFKW_52Jx"
   },
   "source": [
    "# TOPIC :Variables in Python Operators"
   ]
  },
  {
   "cell_type": "code",
   "execution_count": 44,
   "metadata": {
    "id": "AzBzVODl52Jy"
   },
   "outputs": [],
   "source": [
    "# 5) One of my friends name is Mr. Ahmed. He is 30 years old.  He is a lawer by profession. He has done his bachelors in law in the year 2005. He is working with a reputable law firm 'The Himalya Associates' in Karachi since 2015.\n",
    "# He is a handsome lawer with height of 5.10 feets and weight 70600g. His monthly income is Rs. 200k PKR.\n",
    "\n",
    "# Note: Create variables from above text and also assign values from the text. \n",
    "\n",
    "\n",
    "name = \"Mr.Ahmed\" \n",
    "age = 30 \n",
    "profession = \"Lawyer\"\n",
    "Education = \"Bachelors in Law\"\n",
    "passout_year = 2005\n",
    "working_organization = \"The Himalya Associates\"\n",
    "joining_year = 2015\n",
    "height = 5.10\n",
    "mr_ahmed_weight_grams = 70600\n",
    "monthly_income_pkr = 200000\n"
   ]
  },
  {
   "cell_type": "code",
   "execution_count": 45,
   "metadata": {
    "id": "Uaf--v5S52J0"
   },
   "outputs": [
    {
     "name": "stdout",
     "output_type": "stream",
     "text": [
      "Mr.Ahmed has completed 19 years after his bachelor degrees\n"
     ]
    }
   ],
   "source": [
    "# 6)How many years has been to Mr. Ahmed after his bachelors degree? Create a variable that hold current year value \n",
    "# and then subtract it from his passout year\n",
    "\n",
    "current_year = 2024\n",
    "\n",
    "job_duration = current_year - passout_year\n",
    "\n",
    "print(f\"Mr.Ahmed has completed {job_duration} years after his bachelor degrees\")\n",
    "\n"
   ]
  },
  {
   "cell_type": "code",
   "execution_count": 46,
   "metadata": {
    "id": "SAQtVyvD52J1"
   },
   "outputs": [
    {
     "name": "stdout",
     "output_type": "stream",
     "text": [
      "Mr.Ahmed has been working from 9 years with law firm(The Himalya Associates) \n"
     ]
    }
   ],
   "source": [
    "# <!-- 7) How many years has Mr. Ahmed been working with law firm 'The Himalya Associates'.\n",
    "# Create necesary variables and print the correct number of years in working in the firm -->\n",
    "\n",
    "\n",
    "working_from = current_year - joining_year\n",
    "\n",
    "print(f\"Mr.Ahmed has been working from {working_from} years with law firm(The Himalya Associates) \")\n"
   ]
  },
  {
   "cell_type": "code",
   "execution_count": 47,
   "metadata": {
    "id": "Gnk1kIUj52J3"
   },
   "outputs": [
    {
     "name": "stdout",
     "output_type": "stream",
     "text": [
      "Mr. Ahmed's monthly income in dollars is: $714.29\n"
     ]
    }
   ],
   "source": [
    "# 8)Convert the monthly income of Mr. Ahmed in dollars.  Create necesary variables and print the income in dollars. \n",
    "\n",
    "exchange_rate = 280 \n",
    "\n",
    "monthly_income_usd = monthly_income_pkr / exchange_rate \n",
    "\n",
    "print(f\"Mr. Ahmed's monthly income in dollars is: ${monthly_income_usd:.2f}\")\n"
   ]
  },
  {
   "cell_type": "code",
   "execution_count": 48,
   "metadata": {
    "id": "Adx4oblF52J4"
   },
   "outputs": [
    {
     "name": "stdout",
     "output_type": "stream",
     "text": [
      "Mr. Ahmed's monthly income in dollars(as integer) 714\n"
     ]
    }
   ],
   "source": [
    "# 9) Check if the income in dollars is a float or integer value. if it is float, re-write the code so that income gets converted in integer.\n",
    "# print the income in integer type value\n",
    "\n",
    "monthly_income_usd = int(monthly_income_usd)\n",
    "\n",
    "print(f\"Mr. Ahmed's monthly income in dollars(as integer) {monthly_income_usd}\")"
   ]
  },
  {
   "cell_type": "code",
   "execution_count": 50,
   "metadata": {
    "id": "NcYepWgZ52J5"
   },
   "outputs": [
    {
     "name": "stdout",
     "output_type": "stream",
     "text": [
      "Type of Mr. Ahmed's weight: <class 'int'>\n",
      "Mr. Ahmed's weight in kg(in integer): 70\n"
     ]
    }
   ],
   "source": [
    "# 10) Print the type of Mr. Ahmed's weight. Convert the weight of Mr. Ahmed in kg so that weight must be a integer value.\n",
    "\n",
    "print(f\"Type of Mr. Ahmed's weight: {type(mr_ahmed_weight)}\")\n",
    "\n",
    "mr_ahmed_weight_kg = mr_ahmed_weight_grams // 1000\n",
    "\n",
    "print(f\"Mr. Ahmed's weight in kg(in integer): {mr_ahmed_weight_kg}\")\n"
   ]
  },
  {
   "cell_type": "code",
   "execution_count": 41,
   "metadata": {
    "id": "05FU1XHw52J7"
   },
   "outputs": [
    {
     "data": {
      "text/plain": [
       "1994"
      ]
     },
     "execution_count": 41,
     "metadata": {},
     "output_type": "execute_result"
    }
   ],
   "source": [
    "#11) print the year of birth of Mr. Ahmed\n",
    "\n",
    "birth_year = current_year - age\n",
    "birth_year"
   ]
  },
  {
   "cell_type": "code",
   "execution_count": 51,
   "metadata": {
    "id": "eWySSgh552J8"
   },
   "outputs": [
    {
     "name": "stdout",
     "output_type": "stream",
     "text": [
      "No, Rs. 100 cannot be divided equally among 6 students\n"
     ]
    }
   ],
   "source": [
    "# 12) Can Rs. 100 be divided equally among 6 students?\n",
    "# HINT: % operator (modulo)\n",
    "\n",
    "total_amount = 100\n",
    "students = 6\n",
    "\n",
    "if total_amount % students == 0:\n",
    "    print(\"Yes, Rs. 100 can be divided equally among 6 students \")\n",
    "\n",
    "else:\n",
    "    print(\"No, Rs. 100 cannot be divided equally among 6 students\")"
   ]
  },
  {
   "cell_type": "code",
   "execution_count": null,
   "metadata": {
    "id": "RYc0Ks7g52J-",
    "outputId": "0e2425ca-fbed-4c24-b659-e52ef2d0674e"
   },
   "outputs": [
    {
     "data": {
      "text/plain": [
       "0"
      ]
     },
     "execution_count": 9,
     "metadata": {},
     "output_type": "execute_result"
    }
   ],
   "source": [
    "10%2\n",
    "# 10 is completely divisible by2\n",
    "# 10 is multiple of 2\n",
    "# 2 is a factor of 10\n",
    "# 10 comes in table of 2\n",
    "\n"
   ]
  },
  {
   "cell_type": "code",
   "execution_count": null,
   "metadata": {
    "id": "S2nqgbLV52J_"
   },
   "outputs": [],
   "source": []
  },
  {
   "cell_type": "code",
   "execution_count": null,
   "metadata": {
    "id": "X3ncSwJt52KA"
   },
   "outputs": [],
   "source": []
  }
 ],
 "metadata": {
  "colab": {
   "provenance": []
  },
  "kernelspec": {
   "display_name": "Python 3 (ipykernel)",
   "language": "python",
   "name": "python3"
  },
  "language_info": {
   "codemirror_mode": {
    "name": "ipython",
    "version": 3
   },
   "file_extension": ".py",
   "mimetype": "text/x-python",
   "name": "python",
   "nbconvert_exporter": "python",
   "pygments_lexer": "ipython3",
   "version": "3.11.7"
  }
 },
 "nbformat": 4,
 "nbformat_minor": 4
}
