{
 "cells": [
  {
   "cell_type": "markdown",
   "id": "4b63a2df-d280-48f6-a616-76c9aace38de",
   "metadata": {},
   "source": [
    "# ASSIGNMENT-2 \n",
    "## Name: Aaraiz Ali\n",
    "## Roll no: 333564\n",
    "## Days: Tuesday and Wednesday"
   ]
  },
  {
   "cell_type": "code",
   "execution_count": 1,
   "id": "b537c837-a639-4da2-a253-b9c4e3270baf",
   "metadata": {},
   "outputs": [
    {
     "name": "stdin",
     "output_type": "stream",
     "text": [
      "Enter the length  10\n",
      "Enter the width  20\n"
     ]
    },
    {
     "name": "stdout",
     "output_type": "stream",
     "text": [
      "The area of Rectangle is: 200.0\n"
     ]
    }
   ],
   "source": [
    "# 1) Area of a Rectangle: \n",
    "# Write a Python program to calculate the area of a rectangle. Use the formula: \n",
    "# 𝐴𝒓𝒆𝒂 = 𝒍𝒆𝒏𝒈𝒕𝒉 × 𝒘𝒊𝒅𝒕𝒉\n",
    "# Take length and width as inputs from the user.\n",
    "\n",
    "\n",
    "length = float(input(\"Enter the length \"))\n",
    "width = float(input(\"Enter the width \"))\n",
    "\n",
    "area = length * width\n",
    "print(f\"The area of Rectangle is: {area}\")"
   ]
  },
  {
   "cell_type": "code",
   "execution_count": 6,
   "id": "0e34f809-6e95-4325-a77d-c5165daf8788",
   "metadata": {},
   "outputs": [
    {
     "name": "stdin",
     "output_type": "stream",
     "text": [
      "Enter the radius:  10\n"
     ]
    },
    {
     "name": "stdout",
     "output_type": "stream",
     "text": [
      "The circumference of a circle is: 63.8 \n"
     ]
    }
   ],
   "source": [
    "# Circumference of a Circle: \n",
    "# Write a Python program to calculate the circumference of a circle. Use the formula: \n",
    "# 𝑪𝒊𝒓𝒄𝒖𝒎𝒇𝒆𝒓𝒆𝒏𝒄𝒆 = 𝟐𝝅𝒓\n",
    "# Take the radius r as input from the user.\n",
    "\n",
    "radius = float(input(\"Enter the radius: \"))\n",
    "pi = 3.14159\n",
    "\n",
    "circumference = 2 * pie * radius\n",
    "print(f\"The circumference of a circle is: {circumference} \")"
   ]
  },
  {
   "cell_type": "code",
   "execution_count": 10,
   "id": "01377db0-d9d6-4a82-8e1c-830b2d5cff8e",
   "metadata": {},
   "outputs": [
    {
     "name": "stdin",
     "output_type": "stream",
     "text": [
      "Enter the principal:  1000\n",
      "Enter the rate (in %):  5\n",
      "Enter the Time (in years):  2\n"
     ]
    },
    {
     "name": "stdout",
     "output_type": "stream",
     "text": [
      "The Simple Interest of the given inputs is: 10000.0\n"
     ]
    }
   ],
   "source": [
    "# 3) Simple Interest: \n",
    "# Write a Python program to calculate the simple interest. Use the formula: \n",
    "# 𝑺𝒊𝒎𝒑𝒍𝒆 𝑰𝒏𝒕𝒆𝒓𝒆𝒔𝒕 = 𝑷𝒓𝒊𝒏𝒄𝒊𝒑𝒂𝒍 × 𝑹𝒂𝒕𝒆 × 𝑻𝒊𝒎𝒆 / 100\n",
    "# Take Principal, Rate, and Time as inputs from the user.\n",
    "\n",
    "\n",
    "principal = float(input(\"Enter the principal: \"))\n",
    "rate = float(input(\"Enter the rate (in %): \"))\n",
    "time = float(input(\"Enter the Time (in years): \"))\n",
    "\n",
    "simple_interest = (principal * rate * time)\n",
    "\n",
    "print(f\"The Simple Interest of the given inputs is: {simple_interest}\")"
   ]
  },
  {
   "cell_type": "code",
   "execution_count": 5,
   "id": "a92d478e-8c11-49b5-94fc-470f0e21c0d8",
   "metadata": {},
   "outputs": [
    {
     "name": "stdin",
     "output_type": "stream",
     "text": [
      "Enter the distance (in km):  120\n",
      "Enter the time (in minutes):  90\n"
     ]
    },
    {
     "name": "stdout",
     "output_type": "stream",
     "text": [
      "The speed of the object is: 80.00 km/h\n"
     ]
    }
   ],
   "source": [
    "# Speed of an Object: \n",
    "# Write a Python program to calculate the speed of an object. Use the formula: \n",
    "# 𝑆𝒑𝒆𝒆𝒅 = 𝑫𝒊𝒔𝒕𝒂𝒏𝒄𝒆 / 𝑻𝒊𝒎𝒆\n",
    "# Take Distance and Time as inputs from the user. \n",
    "\n",
    "distance = float(input(\"Enter the distance (in km): \"))\n",
    "time = float(input(\"Enter the time (in minutes): \"))\n",
    "\n",
    "\n",
    "time_in_hours = time / 60\n",
    "\n",
    "speed = distance / time_in_hours\n",
    "\n",
    "# Display the result with context\n",
    "print(f\"The speed of the object is: {speed:.2f} km/h\")\n"
   ]
  },
  {
   "cell_type": "code",
   "execution_count": 4,
   "id": "4ce5443e-1fff-4b3d-aca5-554770642cf3",
   "metadata": {},
   "outputs": [
    {
     "name": "stdin",
     "output_type": "stream",
     "text": [
      "Enter the weigth (in kg):  70\n",
      "Enter the height (in meters):  1.75\n"
     ]
    },
    {
     "name": "stdout",
     "output_type": "stream",
     "text": [
      "The body mass index is: 22.86\n"
     ]
    }
   ],
   "source": [
    "# 5) BMI Calculator: \n",
    "# Write a Python program to calculate the Body Mass Index (BMI). Use the formula: \n",
    "# BMI = Weight(kg) / (Height)**\n",
    "# Take Weight (in kilograms) and Height (in meters) as inputs from the user. \n",
    "\n",
    "weight = float(input(\"Enter the weigth (in kg): \"))\n",
    "height = float(input(\"Enter the height (in meters): \"))\n",
    "\n",
    "bmi = weight / (height **2) \n",
    "\n",
    "print(f\"The body mass index is: {bmi:.2f}\")\n",
    "\n",
    "               "
   ]
  },
  {
   "cell_type": "code",
   "execution_count": 7,
   "id": "64604d2c-41c9-4dab-9a2c-0105d9aa7d6c",
   "metadata": {},
   "outputs": [
    {
     "name": "stdin",
     "output_type": "stream",
     "text": [
      "Enter the mass (in kg) 10\n",
      "Enter the accelaration  (in meters/second²)  2\n"
     ]
    },
    {
     "name": "stdout",
     "output_type": "stream",
     "text": [
      "The force of an object is: 20.0 \n"
     ]
    }
   ],
   "source": [
    "# 6) Force Using Newton's Second Law: \n",
    "# Write a Python program to calculate the force on an object. Use the formula: F = ma\n",
    "# Take m (mass in kilograms) and a (acceleration in meters/second²) as inputs from the \n",
    "# user. \n",
    "\n",
    "\n",
    "mass = float(input(\"Enter the mass (in kg)\"))\n",
    "accelaration = float(input(\"Enter the accelaration  (in meters/second²) \"))\n",
    "\n",
    "force = mass * accelaration\n",
    "\n",
    "print(f\"The force of an object is: {force} \")\n"
   ]
  },
  {
   "cell_type": "code",
   "execution_count": 15,
   "id": "a89801fe-1fd6-401a-97e1-793741fed745",
   "metadata": {},
   "outputs": [
    {
     "name": "stdin",
     "output_type": "stream",
     "text": [
      "Enter the principal amount:  1000\n",
      "Enter the amount interest rate (as a decimal, e.g., 0.05 for 5%):  0.05\n",
      "Enter the number of times interest is compounded per year:  4\n",
      "Enter the time (in years):  2\n"
     ]
    },
    {
     "name": "stdout",
     "output_type": "stream",
     "text": [
      "The total amount after 2.0 years is: 1104.49\n",
      "The compound interest of given inputs is: 104.49\n"
     ]
    }
   ],
   "source": [
    "# 7) Compound Interest: \n",
    "# Write a Python program to calculate compound interest. Use the formula: A= P *(1 + r/n) ** (n * t)\n",
    "# 𝒓\n",
    "# 𝒏\n",
    "# n-t\n",
    "# Where: \n",
    "# A= total amount \n",
    "# P = principal amount \n",
    "# r = annual interest rate (decimal) \n",
    "# n = number of times interest is compounded per year \n",
    "# t = time in years \n",
    "# Take P, r, n, and t as inputs from the user.\n",
    "\n",
    "\n",
    "P = float(input(\"Enter the principal amount: \"))\n",
    "r = float(input(\"Enter the amount interest rate (as a decimal, e.g., 0.05 for 5%): \"))\n",
    "n = float(input(\"Enter the number of times interest is compounded per year: \"))\n",
    "t = float(input(\"Enter the time (in years): \"))\n",
    "\n",
    "A =  P * (1 + r / n) ** (n * t)\n",
    "\n",
    "compound_interest = A - P\n",
    "\n",
    "print(f\"The total amount after {t} years is: {A:.2f}\")\n",
    "print(f\"The compound interest of given inputs is: {compound_interest:.2f}\")\n",
    "\n",
    "\n"
   ]
  },
  {
   "cell_type": "code",
   "execution_count": 18,
   "id": "e95dffd8-38e4-4f01-8b00-4b878a3c2a48",
   "metadata": {},
   "outputs": [
    {
     "name": "stdin",
     "output_type": "stream",
     "text": [
      "Enter the length of first side:  10\n",
      "Enter the length of second side:  20\n",
      "Enter the length of third side:  30\n"
     ]
    },
    {
     "name": "stdout",
     "output_type": "stream",
     "text": [
      "The parameter of a triangle is: 60.0\n"
     ]
    }
   ],
   "source": [
    "# 8) Perimeter of a Triangle: \n",
    "# Write a Python program to calculate the perimeter of a triangle. Use the formula: \n",
    "# 𝑷𝒆𝒓𝒊𝒎𝒆𝒕𝒆𝒓 = 𝒂 + 𝒃 + 𝒄\n",
    "# Take a, b, and c (lengths of the three sides) as inputs from the user.\n",
    "\n",
    "a = float(input(\"Enter the length of first side: \"))\n",
    "b = float(input(\"Enter the length of second side: \"))\n",
    "c = float(input(\"Enter the length of third side: \"))\n",
    "\n",
    "Parameter = a + b + c\n",
    "\n",
    "print(f\"The parameter of a triangle is: {Parameter}\")"
   ]
  },
  {
   "cell_type": "code",
   "execution_count": 3,
   "id": "4654433d-debd-4d5e-8730-376059aee04a",
   "metadata": {},
   "outputs": [
    {
     "name": "stdin",
     "output_type": "stream",
     "text": [
      "Enter the radius:  5\n"
     ]
    },
    {
     "name": "stdout",
     "output_type": "stream",
     "text": [
      "The volume of a sphere is: 523.60 \n"
     ]
    }
   ],
   "source": [
    "# 9) Volume of a Sphere: \n",
    "# Write a Python program to calculate the volume of a sphere. Use the formula: Volume = 4/3 pi* r **3\n",
    "# Take r (radius) as input from the user.\n",
    "\n",
    "r = float(input(\"Enter the radius: \"))\n",
    "pi = 3.14159\n",
    "\n",
    "Volume = 4/3 * pi * (r ** 3)\n",
    "\n",
    "print(f\"The volume of a sphere is: {Volume:.2f} \")"
   ]
  },
  {
   "cell_type": "code",
   "execution_count": 2,
   "id": "296e5713-b39c-4c01-9233-868da30422a4",
   "metadata": {},
   "outputs": [
    {
     "name": "stdin",
     "output_type": "stream",
     "text": [
      "Enter the mass (in kg):  50\n",
      "Ente rthe velocity (in meters/second):  20\n"
     ]
    },
    {
     "name": "stdout",
     "output_type": "stream",
     "text": [
      "The kinetic energy of an object is: 10000.0 \n"
     ]
    }
   ],
   "source": [
    "# 10) Kinetic Energy: \n",
    "# Write a Python program to calculate the kinetic energy of an object. Use the formula: \n",
    "# 𝑲𝑬 =  1/2  * (mass * velocity **2)\n",
    "# Take m (mass in kilograms) and v (velocity in meters/second) as inputs from the user. \n",
    "\n",
    "\n",
    "mass = float(input(\"Enter the mass (in kg): \"))\n",
    "velocity = float(input(\"Enter the velocity (in meters/second): \"))\n",
    "\n",
    "Kinetic_energy = 1/2  * (mass * velocity **2)\n",
    "\n",
    "print(f\"The kinetic energy of an object is: {Kinetic_energy} \")"
   ]
  },
  {
   "cell_type": "code",
   "execution_count": null,
   "id": "53c9b421-7442-4688-985e-da758b0dc480",
   "metadata": {},
   "outputs": [],
   "source": [
    "# 11) Quadratic Equation Roots: \n",
    "# Write a Python program to find the roots of a quadratic equation. Use the formula: \n",
    "# Take a, b, and c as inputs from the user. \n",
    "\n",
    "a = "
   ]
  },
  {
   "cell_type": "code",
   "execution_count": 8,
   "id": "2bc91e8a-abab-4f39-90c7-b0580d461ebb",
   "metadata": {},
   "outputs": [
    {
     "name": "stdin",
     "output_type": "stream",
     "text": [
      "Enter a temperature (in celsius):  38\n"
     ]
    },
    {
     "name": "stdout",
     "output_type": "stream",
     "text": [
      "The converted temperature into fahrenheit: 100.4f \n"
     ]
    }
   ],
   "source": [
    "# 12) Temperature Conversion: \n",
    "# Write a Python program to convert a temperature from Celsius to Fahrenheit. Use the \n",
    "# formula: F = 9/5 * C + 32\n",
    "# Take C (temperature in Celsius) as input from the user.\n",
    "\n",
    "\n",
    "C = int(input(\"Enter a temperature (in celsius): \"))\n",
    "\n",
    "F = 9/5 * C + 32\n",
    "\n",
    "\n",
    "print(f\"The converted temperature into fahrenheit: {F}f \")"
   ]
  },
  {
   "cell_type": "code",
   "execution_count": 5,
   "id": "c00c2cc4-28ed-4cfd-8187-4c3e2eb64f8a",
   "metadata": {},
   "outputs": [
    {
     "name": "stdin",
     "output_type": "stream",
     "text": [
      "Enter the first mass of an object(in kg) :  8.97\n",
      "Enter the second mass of an object (in kg) :  9.89\n",
      "Enter the radius of an object:  6.8\n"
     ]
    },
    {
     "name": "stdout",
     "output_type": "stream",
     "text": [
      "The gravitational force b/w two objects 4.00e+00 \n"
     ]
    }
   ],
   "source": [
    "# 13) Gravitational Force: \n",
    "# Write a Python program to calculate the gravitational force between two objects. Use \n",
    "# the formula \n",
    "# 𝑭 = 𝑮(m1 + m2/r**)\n",
    "# m1, m2 are the masses of the objects \n",
    "# r = distance between the centers of the objects \n",
    "# Take m1, m2 and r as inputs from the user\n",
    "\n",
    "\n",
    "m1 = float(input(\"Enter the first mass of an object(in kg) : \"))\n",
    "m2 = float(input(\"Enter the second mass of an object (in kg) : \"))\n",
    "r = float(input(\"Enter the radius of an object: \"))\n",
    "\n",
    "G = 9.8 \n",
    "\n",
    "F = G * (m1 + m2)/ (r** 2)\n",
    "\n",
    "print(f\"The gravitational force b/w two objects {F:.2e} \")\n"
   ]
  },
  {
   "cell_type": "code",
   "execution_count": 9,
   "id": "20eaf4ba-5cf9-4ce1-82fb-6c885cbfdeac",
   "metadata": {},
   "outputs": [
    {
     "name": "stdin",
     "output_type": "stream",
     "text": [
      "Enter the radius:  5.9\n",
      "Enter the height:  8.9\n"
     ]
    },
    {
     "name": "stdout",
     "output_type": "stream",
     "text": [
      "Th volume of a cylinder is : 973.29 \n"
     ]
    }
   ],
   "source": [
    "# 14) Volume of a Cylinder:\n",
    "# Write a Python program to calculate the volume of a cylinder. Use the formula: \n",
    "# 𝑽𝒐𝒍𝒖𝒎𝒆 = 𝝅*𝒓**2 *𝒉\n",
    "# Take radius(r) and height(h) as inputs from the user\n",
    "\n",
    "\n",
    "r = float(input(\"Enter the radius: \"))\n",
    "h = float(input(\"Enter the height: \"))\n",
    "pi =  3.14159\n",
    "\n",
    "V = pi * r ** 2 * h\n",
    "\n",
    "print (f\"Th volume of a cylinder is : {V:.2f} \")"
   ]
  },
  {
   "cell_type": "code",
   "execution_count": 14,
   "id": "990d5507-c5dc-4a91-ac88-ee6a4db1a38c",
   "metadata": {},
   "outputs": [
    {
     "name": "stdin",
     "output_type": "stream",
     "text": [
      "Enter the force:  9.00\n",
      "Enter the area :  18.9\n"
     ]
    },
    {
     "name": "stdout",
     "output_type": "stream",
     "text": [
      "The presure exerted by a force on a surface is: 0.48\n"
     ]
    }
   ],
   "source": [
    "# 15) Pressure:\n",
    "# Write a Python program to calculate the pressure exerted by a force on a surface. Use \n",
    "# the formula: \n",
    "# 𝑷 = F/A\n",
    "# P = pressure \n",
    "# F = force \n",
    "# A = area \n",
    "# Take F(force) and A(area) as inputs from the user. \n",
    "\n",
    "force = float(input(\"Enter the force: \"))\n",
    "area = float(input(\"Enter the area : \"))\n",
    "\n",
    "P = force / area \n",
    "\n",
    "print(f\"The presure exerted by a force on a surface is: {P:.2f}\")\n"
   ]
  },
  {
   "cell_type": "code",
   "execution_count": 15,
   "id": "4f59fa89-9adc-4f11-a23c-4800c590c982",
   "metadata": {},
   "outputs": [
    {
     "name": "stdin",
     "output_type": "stream",
     "text": [
      "Enter the voltage:  20\n",
      "Enter the current:  16\n"
     ]
    },
    {
     "name": "stdout",
     "output_type": "stream",
     "text": [
      "The electric power consumed is: 1.25\n"
     ]
    }
   ],
   "source": [
    "# 16) Electric Power:\n",
    "# Write a Python program to calculate the electric power consumed. Use the formula: P = V / I\n",
    "# where: \n",
    "# P = power \n",
    "# V = voltage \n",
    "# I = current \n",
    "# Take V(voltage) and I(current) as inputs from the use\n",
    "\n",
    "V = float(input(\"Enter the voltage: \"))\n",
    "I = float(input(\"Enter the current: \"))\n",
    "\n",
    "P = V / I\n",
    "\n",
    "print(f\"The electric power consumed is: {P}\")\n"
   ]
  },
  {
   "cell_type": "code",
   "execution_count": 16,
   "id": "fc032dea-7d54-466b-91f6-92873a17e813",
   "metadata": {},
   "outputs": [
    {
     "name": "stdin",
     "output_type": "stream",
     "text": [
      "Enter the radius:  40\n"
     ]
    },
    {
     "name": "stdout",
     "output_type": "stream",
     "text": [
      "The parameter(Circumference of a circle is: 251.3272)\n"
     ]
    }
   ],
   "source": [
    "# 17) Perimeter of a Circle (Circumference): \n",
    "# Write a Python program to calculate the perimeter (circumference) of a circle. Use the \n",
    "# formula: P = 2𝝅r\n",
    "# Take r (radius) as input from the user.\n",
    "\n",
    "r = float(input(\"Enter the radius: \"))\n",
    "pi = 3.14159\n",
    "\n",
    "P = 2 * pi * r\n",
    "\n",
    "print(f\"The parameter(Circumference of a circle is: {P})\")"
   ]
  },
  {
   "cell_type": "code",
   "execution_count": 19,
   "id": "be3a657c-46bc-4bf5-9f43-e7025cf592a6",
   "metadata": {},
   "outputs": [
    {
     "name": "stdin",
     "output_type": "stream",
     "text": [
      "Enter the present value:  1000\n",
      "Enter the annual invest rate(as a decimal):  0.8\n",
      "Enter the time in years:  12\n"
     ]
    },
    {
     "name": "stdout",
     "output_type": "stream",
     "text": [
      "The future value of an inverstment: 1156831.38\n"
     ]
    }
   ],
   "source": [
    "# 18) Future Value in Savings:\n",
    "# Write a Python program to calculate the future value of an investment. Use the formula:\n",
    "# where: \n",
    "# o FV= future value \n",
    "# o PV= present value \n",
    "# o r= annual interest rate (as a decimal) \n",
    "# o t= time in years \n",
    "# Take PV, r, and t as inputs from the user. \n",
    "\n",
    "PV = float(input(\"Enter the present value: \"))\n",
    "r = float(input(\"Enter the annual invest rate(as a decimal): \"))\n",
    "t = float(input(\"Enter the time in years: \"))\n",
    "\n",
    "\n",
    "FV = PV * (1 + r)**t\n",
    "\n",
    "\n",
    "print(f\"The future value of an inverstment: {FV:.2f}\")"
   ]
  },
  {
   "cell_type": "code",
   "execution_count": 2,
   "id": "a99e7246-5d50-4a01-8fbf-448b0ea14fca",
   "metadata": {},
   "outputs": [
    {
     "name": "stdin",
     "output_type": "stream",
     "text": [
      "Enter the force (f) in newtons:  50\n",
      "Enter the distance (d) in meters:  10\n",
      "Enter the angle (θ) in degrees:  30\n"
     ]
    },
    {
     "name": "stdout",
     "output_type": "stream",
     "text": [
      "The work done by the force is: 432.97 joules\n"
     ]
    }
   ],
   "source": [
    "# 19) Work Done by a Force:\n",
    "# Write a Python program to calculate the work done by a force. Use the formula: \n",
    "# where: \n",
    "# W = work done \n",
    "# f= force \n",
    "# d = distance \n",
    "# theta = angle between force and direction of movement (in degrees) \n",
    "# Take f, d, and θ as inputs from the user.\n",
    "\n",
    "\n",
    "force = float(input(\"Enter the force (f) in newtons: \"))\n",
    "distance = float(input(\"Enter the distance (d) in meters: \"))\n",
    "theta_degrees = float(input(\"Enter the angle (θ) in degrees: \"))\n",
    "\n",
    "theta_radians = theta_degrees * (22 / 7) / 180  # Approximation of π as 22/7\n",
    "\n",
    "cos_theta = 1 - (theta_radians**2) / 2 + (theta_radians**4) / 24\n",
    "\n",
    "work_done = force * distance * cos_theta\n",
    "\n",
    "print(f\"The work done by the force is: {work_done:.2f} joules\")\n"
   ]
  },
  {
   "cell_type": "code",
   "execution_count": 1,
   "id": "bbc0d713-1574-49c3-b4d1-c6b2bd79b19f",
   "metadata": {},
   "outputs": [
    {
     "name": "stdin",
     "output_type": "stream",
     "text": [
      "Enter the force (in newtons):  10\n",
      "Enter the distance (in meters):  20\n",
      "Enter the angle (in degrees):  10\n"
     ]
    },
    {
     "name": "stdout",
     "output_type": "stream",
     "text": [
      "The work done by the force is: 200.0 joules\n"
     ]
    }
   ],
   "source": [
    "# 20) Heat Transfer:\n",
    "# Write a Python program to calculate the amount of heat transferred. Use the formula: \n",
    "# 𝑄 = 𝑚𝑐 (∆T)\n",
    "# where: \n",
    "# Q= heat transfer \n",
    "# m = mass \n",
    "# c = specific heat capacity \n",
    "# ΔT \n",
    "# Take m, c, T as inputs from the user\n",
    "\n",
    "\n",
    "\n",
    "force = float(input(\"Enter the force (in newtons): \"))\n",
    "distance = float(input(\"Enter the distance (in meters): \"))\n",
    "theta = float(input(\"Enter the angle (in degrees): \"))\n",
    "\n",
    "work_done = force * distance * 1  # cos(0 degrees) is 1\n",
    "\n",
    "print(f\"The work done by the force is: {work_done} joules\")\n"
   ]
  }
 ],
 "metadata": {
  "kernelspec": {
   "display_name": "Python 3 (ipykernel)",
   "language": "python",
   "name": "python3"
  },
  "language_info": {
   "codemirror_mode": {
    "name": "ipython",
    "version": 3
   },
   "file_extension": ".py",
   "mimetype": "text/x-python",
   "name": "python",
   "nbconvert_exporter": "python",
   "pygments_lexer": "ipython3",
   "version": "3.11.7"
  }
 },
 "nbformat": 4,
 "nbformat_minor": 5
}
